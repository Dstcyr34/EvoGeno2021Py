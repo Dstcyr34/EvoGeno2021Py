{
 "cells": [
  {
   "cell_type": "markdown",
   "id": "blank-stone",
   "metadata": {},
   "source": [
    "# Lab 10 : VirSorter2\n",
    "\n",
    "## Virsorter2\n",
    "\n",
    "Virsorter2 (https://microbiomejournal.biomedcentral.com/articles/10.1186/s40168-020-00990-y) is a tool for identifying viruses in contigs and bins. It is available on github - https://github.com/jiarong/VirSorter2  For the directions for installing either VirSorter  Option 1 (bioconda version) or the developmental version (Option 2) in your Unity directory. If you install Option 1 create a new directory \"VirSorter2\" to put your files in. Run the test.fa file as per the github recommendations to make sure you installation works.  VirSorter takes as an input a fasta formatted nucleotide sequence file. There can be multiple fasta sequences in the same file. \n"
   ]
  },
  {
   "cell_type": "markdown",
   "id": "solid-texture",
   "metadata": {},
   "source": [
    "## Interactive and Batch Jobs on Unity\n",
    "\n",
    "The Unity documentation provides an overview on running jobs - https://unity.rc.umass.edu/docs/#slurm/ .  Many bioinformatics applications take 10s of minutes to 10s of hours to run so there is no sense in running them interactive to wait for the results (and keep your laptop open). `SBATCH` jobs are typically run using a shell script containing multiple commands.\n",
    "\n"
   ]
  },
  {
   "cell_type": "markdown",
   "id": "burning-beach",
   "metadata": {},
   "source": [
    "### Shell Scripts\n",
    "\n",
    "To create a shell script open a text file, add the text `echo \"Hello World!\"` and save it as `hello.sh`.  To be able to run it the file permissions must be changed. This is done in the terminal using chmod (for more info see https://cets.seas.upenn.edu/answers/chmod.html)."
   ]
  },
  {
   "cell_type": "code",
   "execution_count": 1,
   "id": "turned-prescription",
   "metadata": {},
   "outputs": [
    {
     "ename": "SyntaxError",
     "evalue": "invalid syntax (<ipython-input-1-d5975ed40863>, line 1)",
     "output_type": "error",
     "traceback": [
      "\u001b[0;36m  File \u001b[0;32m\"<ipython-input-1-d5975ed40863>\"\u001b[0;36m, line \u001b[0;32m1\u001b[0m\n\u001b[0;31m    chmod +x hello.sh\u001b[0m\n\u001b[0m             ^\u001b[0m\n\u001b[0;31mSyntaxError\u001b[0m\u001b[0;31m:\u001b[0m invalid syntax\n"
     ]
    }
   ],
   "source": [
    "chmod +x hello.sh"
   ]
  },
  {
   "cell_type": "markdown",
   "id": "worse-royalty",
   "metadata": {},
   "source": [
    "To run VirSorter using SBATCH copy and past the below text into a text file and save it as `virsorter_sbatch.sh`. This file will activate the conda vs2 environment and run virsorter. Remember to change the permissions."
   ]
  },
  {
   "cell_type": "code",
   "execution_count": null,
   "id": "functioning-bench",
   "metadata": {},
   "outputs": [],
   "source": [
    "#!/bin/bash\n",
    "#SBATCH -J virsorter_sbatch\n",
    "#SBATCH -o filename_%j.txt\n",
    "#SBATCH -e filename_%j.err\n",
    "#SBATCH -c 4  # Number of Cores per Task\n",
    "#SBATCH --time=02:00:00\n",
    "#SBATCH --mem=16G\n",
    "\n",
    "# With Slurm jobs, your ~/.bashrc is not sourced, \n",
    "# so it doesn’t initialize the shell for Conda environments and you will get an error message\n",
    "# Add this line before activating the environment:\n",
    "eval \"$(conda shell.bash hook)\"\n",
    "\n",
    "# Activate the virsorter vs2 conda environment\n",
    "conda activate vs2\n",
    "\n",
    "# Run virsorter\n",
    "virsorter run -w test_sbatch.out -i test.fa --min-length 1500 -j 4 all"
   ]
  },
  {
   "cell_type": "markdown",
   "id": "expired-twins",
   "metadata": {},
   "source": [
    "To run the job"
   ]
  },
  {
   "cell_type": "code",
   "execution_count": null,
   "id": "crude-helen",
   "metadata": {},
   "outputs": [],
   "source": [
    "sbatch virsorter_sbatch.sh"
   ]
  },
  {
   "cell_type": "markdown",
   "id": "patent-washer",
   "metadata": {},
   "source": [
    "More sbatch options can be viewed using `sbatch -h`.  Here is an overview of the more common options for viewing and stopping jobs https://docs.ycrc.yale.edu/clusters-at-yale/job-scheduling/"
   ]
  },
  {
   "cell_type": "code",
   "execution_count": null,
   "id": "fresh-geology",
   "metadata": {},
   "outputs": [],
   "source": [
    "# List your queued and running jobs:\n",
    "\n",
    "squeue --me\n",
    "\n",
    "# Cancel a queued job or kill a running job, e.g. a job with ID 12345:\n",
    "\n",
    "scancel 12345\n",
    "\n",
    "# Check status of a job, e.g. a job with ID 12345:\n",
    "\n",
    "sacct -j 12345\n",
    "\n",
    "# Check how efficiently a job ran, e.g. a job with ID 12345:\n",
    "\n",
    "seff 12345"
   ]
  },
  {
   "cell_type": "markdown",
   "id": "after-israel",
   "metadata": {},
   "source": [
    "## Running virsorter on all your bins (or contigs)\n",
    "\n",
    "Process your sample reads through trimmomatic and metaspades.  Use both the assembled contigs and the reads as inputs in the binning programs when the option is available. For this lab use either `Metabat` and/or `Concoct` to bin your reads as these provide fasta nucleotide files of your bins (and in the case of Metabit the remaining contigs). Download and transfer the binning results which include the fasta sequences from KBase to Unity.  \n",
    "\n",
    "On Unity make a directory within VirSorter2 with the fasta files. For example `SampleA1_metabat_contigs`"
   ]
  },
  {
   "cell_type": "code",
   "execution_count": null,
   "id": "correct-recognition",
   "metadata": {},
   "outputs": [],
   "source": [
    "# virsorter_run.py\n",
    "# A program to run virsorter on multiple fasta files in the same directory\n",
    "\n",
    "import os, sys, glob\n",
    "\n",
    "# move into the directory containing the sequences\n",
    "os.chdir(\"SampleA1_metabat_contigs\")\n",
    "\n",
    "# get a list of the fasta files\n",
    "fasta_files = glob.glob('*.fa')\n",
    "\n",
    "# run virsorter on each of these files\n",
    "for file in fasta_files :\n",
    "    os.system ('virsorter {}'.format('run -w ' + file + '.out -i ' + file + ' --min-length 1500 -j 4 all')) \n",
    "    \n",
    "# Move back to your virsorter directory\n",
    "os.chdir(\"..\")"
   ]
  },
  {
   "cell_type": "markdown",
   "id": "royal-institute",
   "metadata": {},
   "source": [
    "We don't want to run the above in interactive mode, so let's make a sbatch file to run it in batch mode. Notice that instead of running virsorter within the script we are calling our python program. Save the script as `vsorter_sbatch_dir.sh` and make it executable"
   ]
  },
  {
   "cell_type": "code",
   "execution_count": null,
   "id": "public-humanity",
   "metadata": {},
   "outputs": [],
   "source": [
    "#!/bin/bash\n",
    "#SBATCH -J virsorter_test\n",
    "#SBATCH -o filename_%j.txt\n",
    "#SBATCH -e filename_%j.err\n",
    "#SBATCH -c 4  # Number of Cores per Task\n",
    "#SBATCH --time=02:00:00\n",
    "#SBATCH --mem=16G\n",
    "\n",
    "# With Slurm jobs, your ~/.bashrc is not sourced, \n",
    "# so it doesn’t initialize the shell for Conda environments and you will get an error message\n",
    "# Add this line before activating the environment:\n",
    "eval \"$(conda shell.bash hook)\"\n",
    "\n",
    "conda activate vs2\n",
    "\n",
    "python virsorter_run.py"
   ]
  },
  {
   "cell_type": "code",
   "execution_count": null,
   "id": "intense-bidding",
   "metadata": {},
   "outputs": [],
   "source": [
    "# Run the script within the VirSorter2 directory\n",
    "sbatch vsorter_sbatch_dir.sh"
   ]
  },
  {
   "cell_type": "markdown",
   "id": "forced-income",
   "metadata": {},
   "source": [
    "It may take many hours to a day for the job to finish. You can check on the job using the above commands. You may also want to consider allocate more resources to the job. The end results should be a seriers of sub-directories named after the fasta files."
   ]
  },
  {
   "cell_type": "markdown",
   "id": "brief-dividend",
   "metadata": {},
   "source": [
    "## Exercises\n",
    " \n",
    "Your challenge now is to write a Python script that goes into each sub-directory. Opens each `final-viral-score.tsv` file and adds it to a single summary file that has the name of the original fasta file in the first column followed by the columns in the corresponding `final-viral-score.tsv`.  Submit this file on Moodle by Dec. 1"
   ]
  }
 ],
 "metadata": {
  "kernelspec": {
   "display_name": "Python 3",
   "language": "python",
   "name": "python3"
  },
  "language_info": {
   "codemirror_mode": {
    "name": "ipython",
    "version": 3
   },
   "file_extension": ".py",
   "mimetype": "text/x-python",
   "name": "python",
   "nbconvert_exporter": "python",
   "pygments_lexer": "ipython3",
   "version": "3.8.8"
  }
 },
 "nbformat": 4,
 "nbformat_minor": 5
}
