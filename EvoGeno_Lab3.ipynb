{
 "cells": [
  {
   "cell_type": "markdown",
   "metadata": {},
   "source": [
    "Lab 3 - User Input, Lists and Dictionaries\n",
    "\n",
    "## Learning Objectives\n",
    "\n",
    "* Getting user input\n",
    "* Lists\n",
    "* Dictionaries"
   ]
  },
  {
   "cell_type": "markdown",
   "metadata": {},
   "source": [
    "## 3.1 Getting input from the user\n",
    "\n",
    "While there are several ways to gather data from the outside world, the simplest is to just ask. In Python, a program asks for information from the user with the input() function. "
   ]
  },
  {
   "cell_type": "code",
   "execution_count": 11,
   "metadata": {},
   "outputs": [
    {
     "name": "stdout",
     "output_type": "stream",
     "text": [
      "Hello!  What is your name? Jeff\n",
      "Nice to meet you Jeff.\n"
     ]
    }
   ],
   "source": [
    "# Example 3.1 \n",
    "# Description:  This program asks the user their name, \n",
    "# captures the response and prints a greeting\n",
    "\n",
    "# Ask the program users a question and get information\n",
    "# from the terminal or command prompt into the program\n",
    "user = input(\"Hello!  What is your name? \")\n",
    "    \n",
    "# Print a response to the user    \n",
    "print ('Nice to meet you %s.' % (user))"
   ]
  },
  {
   "cell_type": "markdown",
   "metadata": {},
   "source": [
    "## 3.2 Lists\n",
    "\n",
    "Variables types that we used last session consisted of strings, integers and floating point numbers.  Variable contain just one item, even if it is incredibly big. One way to organize variable is the use of LISTS, as in a shopping list.  Lists consists of multiple variables (items)."
   ]
  },
  {
   "cell_type": "code",
   "execution_count": 2,
   "metadata": {},
   "outputs": [
    {
     "name": "stdout",
     "output_type": "stream",
     "text": [
      "The nucleotides in DNA are ['A', 'C', 'G', 'T'].\n"
     ]
    }
   ],
   "source": [
    "# Example 3.2\n",
    "# Name: list_nucleotides.py\n",
    "# Description:  This program prints a list of nucleotides\n",
    "\n",
    "# A set of nucleotides\n",
    "nucleotides = ['A','C','G','T']\n",
    "    \n",
    "#     \n",
    "print ('The nucleotides in DNA are %s.' % (nucleotides))"
   ]
  },
  {
   "cell_type": "markdown",
   "metadata": {},
   "source": [
    "Just like we saw with strings there are many similar manipulations that can be done on lists.  1) The built-in functions len(), max() and min() tell us how many items are in the list and the maximum and minimum values in the list.  The list method index() tells us where an item is in the list.  Here are some other commonly used list methods."
   ]
  },
  {
   "cell_type": "markdown",
   "metadata": {},
   "source": [
    "Commonly used list methods\n",
    "\n",
    "* list.append(elem) -- adds a single element to the end of the list. Common error: does not return the new list, just modifies the original.\n",
    "* list.insert(index, elem) -- inserts the element at the given index, shifting elements to the right.\n",
    "* list.extend(list2) adds the elements in list2 to the end of the list. Using + or += on a list is similar to using extend().\n",
    "* list.index(elem) -- searches for the given element from the start of the list and returns its index. Throws a ValueError if the element does not appear (use \"in\" to check without a ValueError).\n",
    "* list.remove(elem) -- searches for the first instance of the given element and removes it (throws ValueError if not present)\n",
    "* list.sort() -- sorts the list in place (does not return it). \n",
    "* list.reverse() -- reverses the list in place (does not return it)\n",
    "* list.pop(index) -- removes and returns the element at the given index. Returns the rightmost element if index is omitted (roughly the opposite of append()).\n"
   ]
  },
  {
   "cell_type": "code",
   "execution_count": 3,
   "metadata": {},
   "outputs": [
    {
     "name": "stdout",
     "output_type": "stream",
     "text": [
      "The list of nucelotides is ['A', 'C', 'G', 'T']\n",
      "The length of the list is 4\n",
      "The max value in the list is T\n",
      "The min value in the list is A\n",
      "The position of T is 3\n",
      "The appended list is ['A', 'C', 'G', 'T', 'N']\n",
      "The list after removing A is ['C', 'G', 'T', 'N']\n",
      "The sorted list is ['C', 'G', 'N', 'T']\n",
      "The popped base is C\n",
      "The list after popping index position 0 is ['G', 'N', 'T']\n"
     ]
    }
   ],
   "source": [
    "# Example 3.3\n",
    "# Description:  This programs demonstrates list methods\n",
    "\n",
    "# A list of nucleotides\n",
    "nucleotides = ['A','C','G','T']\n",
    "\n",
    "print ('The list of nucelotides is', nucleotides)\n",
    "\n",
    "print ('The length of the list is', len(nucleotides))\n",
    "\n",
    "print ('The max value in the list is', max(nucleotides))\n",
    "\n",
    "print ('The min value in the list is', min(nucleotides))\n",
    "\n",
    "x = nucleotides.index('T')\n",
    "print ('The position of T is', x)\n",
    "\n",
    "nucleotides.append('N')\n",
    "print ('The appended list is', nucleotides)\n",
    "\n",
    "nucleotides.remove('A')\n",
    "print ('The list after removing A is', nucleotides)\n",
    "\n",
    "nucleotides.sort()\n",
    "print ('The sorted list is', nucleotides)\n",
    "\n",
    "# Note just like strings, lists which begin counting at zero\n",
    "base = nucleotides.pop(0)\n",
    "print ('The popped base is', base)\n",
    "print ('The list after popping index position 0 is', nucleotides)"
   ]
  },
  {
   "cell_type": "code",
   "execution_count": 4,
   "metadata": {},
   "outputs": [
    {
     "name": "stdout",
     "output_type": "stream",
     "text": [
      "[5, 12, 25, 60]\n",
      "4\n",
      "60\n",
      "5\n",
      "5\n",
      "12\n",
      "25\n",
      "60\n"
     ]
    }
   ],
   "source": [
    "# Example 3.4\n",
    "# Description:  This programs demonstrates list methods on integers\n",
    "\n",
    "# A list of integers\n",
    "values = [5, 12, 25, 60]\n",
    "\n",
    "print (values)\n",
    "\n",
    "print (len(values))\n",
    "print (max(values))\n",
    "print (min(values))\n",
    "\n",
    "#Here is a ways to print lists without getting the default brackets\n",
    "\n",
    "for x in values: \n",
    "    print(x)"
   ]
  },
  {
   "cell_type": "markdown",
   "metadata": {},
   "source": [
    "## 3.3 Loops and Lists\n",
    "\n",
    "Often we need to iterate over lists. It is much like looping in strings."
   ]
  },
  {
   "cell_type": "code",
   "execution_count": 5,
   "metadata": {},
   "outputs": [
    {
     "name": "stdout",
     "output_type": "stream",
     "text": [
      "# for looping lists\n",
      "Adenine\n",
      "Cytosine\n",
      "Guanine\n",
      "Thymine\n",
      "# while loopy\n",
      "0\n",
      "Adenine\n",
      "1\n",
      "Cytosine\n",
      "2\n",
      "Guanine\n",
      "3\n",
      "Thymine\n",
      "# iffy loops\n",
      "This is a short list of 4 nucleotides\n"
     ]
    }
   ],
   "source": [
    "# Example 3.5\n",
    "# Description:  This programs demonstrates for loops\n",
    "\n",
    "# for looping lists\n",
    "print ('# for looping lists')\n",
    "nucleotides = ['Adenine','Cytosine','Guanine','Thymine']\n",
    "\n",
    "for base in nucleotides :\n",
    "    print (base)\n",
    "    \n",
    "\n",
    "# while loopy\n",
    "print ('# while loopy')\n",
    "count = 0\n",
    "\n",
    "while (count < len(nucleotides)):\n",
    "    print (count)\n",
    "    print (nucleotides[count])\n",
    "    count = count + 1\n",
    "    \n",
    "\n",
    "# iffy loops\n",
    "print ('# iffy loops')\n",
    "if len(nucleotides) < 100 :\n",
    "    print ('This is a short list of %s nucleotides' % len(nucleotides))\n",
    "else :\n",
    "    print ('This is a long list of %s nucleotides' % len(nucleotides))\n"
   ]
  },
  {
   "cell_type": "markdown",
   "metadata": {},
   "source": [
    "## Exercises (Part 1)\n",
    "\n",
    "1. Write a program that first asks the user for a name and then asks the user for a telephone number. For the output ask the user if the telephone number is correct and if it is not correct keep trying for 3 times before exiting. If it is correct say thank you.\n",
    "\n",
    "2. You can make lists of strings. Write a program that has the six DNA sequences from Lab 2. Make a list of the sequences variable names. Then for each sequence in your list count the nucleotides.\n",
    "\n",
    "3. Write a program that asks the user for five words, one word at a time, puts the words into a list, then prints out the list in alphabetical order. Hint1: Before you can append to a list, you will need to create an empty list using : words = [ ].  Hint2 : For a nice user interface you can include the word number as in : word = input('Please input word ' + str(num) + ': ' ) \n"
   ]
  },
  {
   "cell_type": "markdown",
   "metadata": {},
   "source": [
    "## 3.4 Dictionaries\n",
    "\n",
    "Dictionaries consist of pairs (called items) of keys and their corresponding values.  The key-value pair concept is widely used in different programming languages and is at the heart of relational database management systems such as MySQL, PostgreSQL, Oracle and Access.  As the name applies Dictionaries are a way of storiing and looking up a particular item. \n",
    "\n",
    "The general syntax of a dictionary is as follows:\n",
    "\n",
    "<pre>\n",
    "dict = {'key1': 'value1', 'key2': 'value2'}\n",
    "</pre>\n",
    "\n",
    "Each key is separated from its value by a colon (:), the items are separated by commas, and the whole thing is enclosed in curly braces.   Keys must be unique, while values may not be. The values of a dictionary can be of any type, but the keys must be of an immutable data type such as strings, numbers, or tuples. If multiple key-values pairs are entered into a dictioinary only the last key-value pair will remain."
   ]
  },
  {
   "cell_type": "code",
   "execution_count": 6,
   "metadata": {},
   "outputs": [
    {
     "name": "stdout",
     "output_type": "stream",
     "text": [
      "{'p53': '30', 'brca1': '9'}\n"
     ]
    }
   ],
   "source": [
    "# Example 3.7\n",
    "# Description: A program to demonstrate the results of entering the same key twice\n",
    "\n",
    "expression_data = {'p53': '2', 'brca1': '9', 'p53': '30'}\n",
    "print (expression_data)"
   ]
  },
  {
   "cell_type": "markdown",
   "metadata": {},
   "source": [
    "Key-value pairs are not necessarily stored in the order that they are entered into the dictionary.  Instead of order, a dictionary uses a algorithm to identify each item’s place in the dictionary with a rapid calculation of the key’s value.  This makes for very fast searches of large dictionaries.  As with string and lists, items can be inserted, removed and searched for in dictionaries. "
   ]
  },
  {
   "cell_type": "code",
   "execution_count": 7,
   "metadata": {},
   "outputs": [
    {
     "name": "stdout",
     "output_type": "stream",
     "text": [
      "9\n",
      "dict_keys(['p53', 'brca1', 'brca2'])\n",
      "dict_values(['2', '9', '30'])\n",
      "dict_items([('p53', '2'), ('brca1', '9'), ('brca2', '30')])\n"
     ]
    }
   ],
   "source": [
    "# Example 3.8\n",
    "# Description: A program to demonstrate some useful dictionary methods\n",
    "\n",
    "expression_data = {'p53': '2', 'brca1': '9', 'brca2': '30'}\n",
    "\n",
    "# To look up an item in the dictionary and find the value\n",
    "print (expression_data['brca1'])\n",
    "\n",
    "# To list all the keys in the dictionary\n",
    "print (expression_data.keys())\n",
    "\n",
    "# To list all the values in the dictionary\n",
    "print (expression_data.values())\n",
    "\n",
    "# To list both keys and values of the dictionary\n",
    "print (expression_data.items())"
   ]
  },
  {
   "cell_type": "code",
   "execution_count": 8,
   "metadata": {},
   "outputs": [
    {
     "ename": "KeyError",
     "evalue": "'brca5'",
     "output_type": "error",
     "traceback": [
      "\u001b[0;31m---------------------------------------------------------------------------\u001b[0m",
      "\u001b[0;31mKeyError\u001b[0m                                  Traceback (most recent call last)",
      "\u001b[0;32m/tmp/ipykernel_35920/3887112730.py\u001b[0m in \u001b[0;36m<module>\u001b[0;34m\u001b[0m\n\u001b[1;32m      6\u001b[0m \u001b[0;34m\u001b[0m\u001b[0m\n\u001b[1;32m      7\u001b[0m \u001b[0;31m# To look up an item in the dictionary and find the value\u001b[0m\u001b[0;34m\u001b[0m\u001b[0;34m\u001b[0m\u001b[0;34m\u001b[0m\u001b[0m\n\u001b[0;32m----> 8\u001b[0;31m \u001b[0mprint\u001b[0m \u001b[0;34m(\u001b[0m\u001b[0mexpression_data\u001b[0m\u001b[0;34m[\u001b[0m\u001b[0;34m'brca5'\u001b[0m\u001b[0;34m]\u001b[0m\u001b[0;34m)\u001b[0m\u001b[0;34m\u001b[0m\u001b[0;34m\u001b[0m\u001b[0m\n\u001b[0m",
      "\u001b[0;31mKeyError\u001b[0m: 'brca5'"
     ]
    }
   ],
   "source": [
    "# Example 3.9 \n",
    "# Description: A program to demonstrate the error message produced\n",
    "#              when a key is not found\n",
    "\n",
    "expression_data = {'p53': '2', 'brca1': '9', 'brca2': '30'}\n",
    "\n",
    "# To look up an item in the dictionary and find the value\n",
    "print (expression_data['brca5'])\n"
   ]
  },
  {
   "cell_type": "code",
   "execution_count": 9,
   "metadata": {},
   "outputs": [
    {
     "name": "stdout",
     "output_type": "stream",
     "text": [
      "The gene brca5 can not be found in the dictionary\n"
     ]
    }
   ],
   "source": [
    "# Example 3.10\n",
    "# Description: A program to demonstrate the error message produced\n",
    "#              when a key is not found\n",
    "\n",
    "expression_data = {'p53': '2', 'brca1': '9', 'brca2': '30'}\n",
    "\n",
    "gene = 'brca5'\n",
    "\n",
    "# \n",
    "if gene in expression_data :\n",
    "    print (expression_data[gene])\n",
    "else :\n",
    "    print ('The gene %s can not be found in the dictionary' % (gene))"
   ]
  },
  {
   "cell_type": "markdown",
   "metadata": {},
   "source": [
    "### Inserting, deleting and modifying keys and values in a dictionary"
   ]
  },
  {
   "cell_type": "code",
   "execution_count": 10,
   "metadata": {},
   "outputs": [
    {
     "name": "stdout",
     "output_type": "stream",
     "text": [
      "{'p53': 15, 'brca1': '9', 'brca2': '30'}\n",
      "{'p53': 15, 'brca1': '9', 'brca2': '30', 'fox2p': 12}\n",
      "{'p53': 15, 'brca1': '9', 'brca2': '30', 'fox2p': 12, 'level': 'high'}\n",
      "{'brca1': '9', 'brca2': '30', 'fox2p': 12, 'level': 'high'}\n",
      "4\n",
      "9\n",
      "30\n",
      "12\n",
      "high\n",
      "brca1 \t 9\n",
      "brca2 \t 30\n",
      "fox2p \t 12\n",
      "level \t high\n"
     ]
    }
   ],
   "source": [
    "# Example 3.11\n",
    "# Description: A program to demonstrate some useful dictionary methods\n",
    "\n",
    "expression_data = {'p53': '2', 'brca1': '9', 'brca2': '30'}\n",
    "\n",
    "# update existing entry\n",
    "expression_data['p53'] = 15\n",
    "print (expression_data)\n",
    "\n",
    "# Add new entry that is a value\n",
    "expression_data['fox2p'] = 12; \n",
    "print (expression_data)\n",
    "\n",
    "# Add a new entry that is a string\n",
    "expression_data['level'] = \"high\"\n",
    "print (expression_data)\n",
    "\n",
    "# Delete an entry\n",
    "del expression_data['p53']\n",
    "print (expression_data)        \n",
    "\n",
    "# Get the length of a dictionary\n",
    "print (len(expression_data))\n",
    "\n",
    "# Iterate through a dictiontary\n",
    "for key in expression_data:\n",
    "    print (expression_data[key])\n",
    "    \n",
    "# Print all key and values\t\n",
    "for key, value in expression_data.items() :\n",
    "    print (key,'\\t', value)"
   ]
  },
  {
   "cell_type": "markdown",
   "metadata": {},
   "source": [
    "## Exercises\n",
    "\n",
    "1. Write a program that includes a dictionary of 10 names and phone numbers and prompts the user on the command line (as in the last Lab) to look up a name and then returns to the user the phone number. Return an error message if the name is not found.\n",
    "\n",
    "2. Make a dictionary out of the six sequences using the names as the key and the sequences as the values. Iterate through the dictionary and count the number of each nucleotide type in each sequence\n",
    " \n",
    "3. Below is is a dictionary with codons as the key and the single letter amino acid representation as the value where the STOP codon is *. Use this dictionary to translate the following DNA sequence 'ATGAAAAATGGTAGTGGTCGTGTTACTGAATTTCCTTTATGGTGGTCCTAAATGATAA' to the amino acids in the first frame (starting with with ATG.  \n",
    "\n",
    "<pre>\n",
    "dna_codon = {\"TTT\" : \"F\", \"CTT\" : \"L\", \"ATT\" : \"I\", \"GTT\" : \"V\",\n",
    "           \"TTC\" : \"F\", \"CTC\" : \"L\", \"ATC\" : \"I\", \"GTC\" : \"V\",\n",
    "           \"TTA\" : \"L\", \"CTA\" : \"L\", \"ATA\" : \"I\", \"GTA\" : \"V\",\n",
    "           \"TTG\" : \"L\", \"CTG\" : \"L\", \"ATG\" : \"M\", \"GTG\" : \"V\",\n",
    "           \"TCT\" : \"S\", \"CCT\" : \"P\", \"ACT\" : \"T\", \"GCT\" : \"A\",\n",
    "           \"TCC\" : \"S\", \"CCC\" : \"P\", \"ACC\" : \"T\", \"GCC\" : \"A\",\n",
    "           \"TCA\" : \"S\", \"CCA\" : \"P\", \"ACA\" : \"T\", \"GCA\" : \"A\",\n",
    "           \"TCG\" : \"S\", \"CCG\" : \"P\", \"ACG\" : \"T\", \"GCG\" : \"A\",\n",
    "           \"TAT\" : \"Y\", \"CAT\" : \"H\", \"AAT\" : \"N\", \"GAT\" : \"D\",\n",
    "           \"TAC\" : \"Y\", \"CAC\" : \"H\", \"AAC\" : \"N\", \"GAC\" : \"D\",\n",
    "           \"TAA\" : \"*\", \"CAA\" : \"Q\", \"AAA\" : \"K\", \"GAA\" : \"E\",\n",
    "           \"TAG\" : \"*\", \"CAG\" : \"Q\", \"AAG\" : \"K\", \"GAG\" : \"E\",\n",
    "           \"TGT\" : \"C\", \"CGT\" : \"R\", \"AGT\" : \"S\", \"GGT\" : \"G\",\n",
    "           \"TGC\" : \"C\", \"CGC\" : \"R\", \"AGC\" : \"S\", \"GGC\" : \"G\",\n",
    "           \"TGA\" : \"*\", \"CGA\" : \"R\", \"AGA\" : \"R\", \"GGA\" : \"G\",\n",
    "           \"TGG\" : \"W\", \"CGG\" : \"R\", \"AGG\" : \"R\", \"GGG\" : \"G\" \n",
    "           }\n",
    "</pre>\n",
    "\n",
    "4. Use a loop to print out the predicted protein sequence from all 3 reading frames for the following DNA sequence 'AAATTATGAAAAATGGTAGTGGTCGTGTTACTGAATTTCCTTTATGGTGGTCCTAAATGATAA'. (Reading frame 1 starts with AAA, Reading Frame 2 with AAT, Reading Frame 3 with ATT)\n"
   ]
  }
 ],
 "metadata": {
  "kernelspec": {
   "display_name": "Python 3 (ipykernel)",
   "language": "python",
   "name": "python3"
  },
  "language_info": {
   "codemirror_mode": {
    "name": "ipython",
    "version": 3
   },
   "file_extension": ".py",
   "mimetype": "text/x-python",
   "name": "python",
   "nbconvert_exporter": "python",
   "pygments_lexer": "ipython3",
   "version": "3.9.5"
  }
 },
 "nbformat": 4,
 "nbformat_minor": 1
}
