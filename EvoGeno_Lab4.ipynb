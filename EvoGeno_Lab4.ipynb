{
 "cells": [
  {
   "cell_type": "markdown",
   "metadata": {},
   "source": [
    "# Lab 4 : Regular expressions\n",
    "\n",
    "## Learning Objectives\n",
    "\n",
    "* Regular Expressions\n"
   ]
  },
  {
   "cell_type": "markdown",
   "metadata": {},
   "source": [
    "## 4 .1 Regular expressions\n",
    "\n",
    "The Python string methods are great for ease of use. If what you're trying to do can be accomplished with string functions, you should use them. They're fast and simple and easy to read, and there's a lot to be said for fast, simple, readable code.  \n",
    "\n",
    "However, string methods are limited to the simplest of search and replace cases. The search methods look for a single, hard-coded substring, and they are always case-sensitive. To do case-insensitive searches of a string s, you must call s.lower() or s.upper() and make sure your search strings are the appropriate case to match. The replace  methods have the same limitations.\n",
    "\n",
    "A regular expression is a special sequence of characters that helps you match or find other strings or sets of strings, using a specialized syntax held in a pattern. Regular expressions are widely used in UNIX world. Many bioiformatic problems involve using regular expressions and we will spend a lot of time in this class building our knowledge of regular expressions through many use cases.\n",
    "\n",
    "Python provides regular expression patterns using the RE module.  Moldules in python are simply files consisting of Python code, that are not typically used when a Python program is run.  Later we will use other Python math and science specific modules that have been writting by experts in the field.\n",
    "\n",
    "There are several different functions of the RE module and a nice HOWTO in the Python Docs-https://docs.python.org/3/howto/regex.html#compiling-regular-expressions and also see the manual pages on regular expressions - https://docs.python.org/3/library/re.html?highlight=regular%20expression#. \n",
    "### Search\n",
    "\n",
    "This function searches for FIRST occurrence of RE pattern within string with optional flags. The syntax for this function:\n",
    "\n",
    "re.search(pattern, string, flags=0)\n",
    "\n",
    "* pattern - This is the regular expression to be matched.\n",
    "* string - This is the string, which would be searched to match the pattern anywhere in the string.\n",
    "* flags - You can specify different flags using bitwise OR (|). These are modifiers, which are listed in the table below.\n",
    "\n",
    "The re.search function returns a match object on success, None on failure. Here is how it works\n"
   ]
  },
  {
   "cell_type": "code",
   "execution_count": 1,
   "metadata": {},
   "outputs": [
    {
     "name": "stdout",
     "output_type": "stream",
     "text": [
      "TTG\n",
      "Aaa\n"
     ]
    }
   ],
   "source": [
    "# Example 4.1\n",
    "# Name:re_search_raw_string.py\n",
    "# Description:  This programs demonstrates the use of regular expressions\n",
    "\n",
    "# Import the regular expression module\n",
    "import re\n",
    "\n",
    "DNA = 'AGTTGTAATGAGGCTGCCGTGATAaaaaaaa'\n",
    "\n",
    "# Find a pattern in the DNA sequence\n",
    "# The r' indicates a raw string search \n",
    "motif = re.search(r'TTG', DNA)\n",
    "\n",
    "if motif :\n",
    "   print (motif.group())\n",
    "else :\n",
    "   print (\"No match!!\")\n",
    "\n",
    "# The flag re.I is set so that the search is case insensitive\n",
    "motif = re.search(r'AAA', DNA, re.I)\n",
    "\n",
    "if motif :\n",
    "   print (motif.group())\n",
    "else :\n",
    "   print (\"No match!!\")"
   ]
  },
  {
   "cell_type": "markdown",
   "metadata": {},
   "source": [
    "The code motif = re.search(pat, str) stores the search result in a variable named \"motif\". Then the if-statement tests the match -- if true the search succeeded and motif.group() is the matching text (e.g. 'TTG'). Otherwise if the match is false (None to be more specific), then the search did not succeed, and there is no matching text.\n",
    "\n",
    "The 'r' at the start of the pattern string designates a python \"raw\" string which passes through backslashes without change which is very handy for regular expressions. I recommend that you always write pattern strings with the 'r' just as a habit. There is an alternative form using re.complile that is used by some. \n",
    "\n"
   ]
  },
  {
   "cell_type": "code",
   "execution_count": 2,
   "metadata": {},
   "outputs": [
    {
     "name": "stdout",
     "output_type": "stream",
     "text": [
      "TTG\n",
      "Aaa\n"
     ]
    }
   ],
   "source": [
    "# Example 4.2\n",
    "# Name:re_search.py\n",
    "# Description:  This programs demonstrates the use of regular expressions\n",
    "\n",
    "# Import the regular expression module\n",
    "import re\n",
    "\n",
    "DNA = 'AGTTGTAATGAGGCTGCCGTGATAaaaaaaa'\n",
    "\n",
    "# Find a pattern in the DNA sequence\n",
    "# The r' indicates a raw string search \n",
    "pattern = re.compile('TTG')\n",
    "motif = re.search(pattern, DNA)\n",
    "\n",
    "if motif :\n",
    "   print (motif.group())\n",
    "else :\n",
    "   print (\"No match!!\")\n",
    "\n",
    "# The flag re.I is set so that the search is case insensitive\n",
    "pattern = re.compile('AAA', re.I)\n",
    "motif = re.search(pattern, DNA)\n",
    "\n",
    "if motif :\n",
    "   print (motif.group())\n",
    "else :\n",
    "   print (\"No match!!\")"
   ]
  },
  {
   "cell_type": "markdown",
   "metadata": {},
   "source": [
    "The start, end and both coordinates of a pattern can be foud with the methods, \n",
    "* start() \tReturn the starting position of the match\n",
    "* end() \tReturn the ending position of the match\n",
    "* span() \tReturn a tuple containing the (start, end) positions of the match"
   ]
  },
  {
   "cell_type": "code",
   "execution_count": 3,
   "metadata": {},
   "outputs": [
    {
     "name": "stdout",
     "output_type": "stream",
     "text": [
      "TTG\n",
      "2\n",
      "5\n",
      "(2, 5)\n"
     ]
    }
   ],
   "source": [
    "# Example 4.3\n",
    "# Name:re_search_coordinates.py\n",
    "# Description:  This programs demonstrates the use of regular expressions\n",
    "\n",
    "# Import the regular expression module\n",
    "import re\n",
    "\n",
    "DNA = 'AGTTGTAATGAGGCTGCCGTGATAaaaaaaa'\n",
    "\n",
    "# Find a pattern in the DNA sequence\n",
    "# The r' indicates a raw string search \n",
    "motif = re.search(r'TTG', DNA)\n",
    "\n",
    "if motif :\n",
    "    print (motif.group())\n",
    "    print (motif.start())\n",
    "    print (motif.end())\n",
    "    print (motif.span())\n",
    "    \n",
    "else :\n",
    "    print (\"No match!!\")"
   ]
  },
  {
   "cell_type": "markdown",
   "metadata": {},
   "source": [
    "### Findall \n",
    "\n",
    "findall() is probably the single most powerful function in the re module. Above we used re.search() to find the first match for a pattern. findall() finds *all* the matches and returns them as a list of strings, with each string representing one match. "
   ]
  },
  {
   "cell_type": "code",
   "execution_count": 4,
   "metadata": {},
   "outputs": [
    {
     "name": "stdout",
     "output_type": "stream",
     "text": [
      "['TGA', 'TGA']\n"
     ]
    }
   ],
   "source": [
    "# Example 4.4\n",
    "# Name:re_findall.py\n",
    "# Description:  This programs demonstrates the use of regular expressions\n",
    "\n",
    "# Import the regular expression module\n",
    "import re\n",
    "\n",
    "DNA = 'AGTTGTAATGAGGCTGCCGTGATAaaaaaa'\n",
    "\n",
    "# Regular expressions are compiled into pattern objects\n",
    "# As in other variables pattern could be anything such as p or emily_dickinson\n",
    "\n",
    "# Find a pattern in the DNA sequence\n",
    "motifs = re.findall(r'TGA', DNA)\n",
    "\n",
    "# or to see as a list\n",
    "print(motifs)"
   ]
  },
  {
   "cell_type": "markdown",
   "metadata": {},
   "source": [
    "If there is no pattern found an empty list is returned"
   ]
  },
  {
   "cell_type": "code",
   "execution_count": 5,
   "metadata": {},
   "outputs": [
    {
     "name": "stdout",
     "output_type": "stream",
     "text": [
      "[]\n"
     ]
    }
   ],
   "source": [
    "# Example 4.5\n",
    "# Name:re_findall.py\n",
    "# Description:  This programs demonstrates the use of regular expressions\n",
    "\n",
    "# Import the regular expression module\n",
    "import re\n",
    "\n",
    "DNA = 'AGTTGTAATGAGGCTGCCGTGATAaaaaaa'\n",
    "\n",
    "# Regular expressions are compiled into pattern objects\n",
    "# As in other variables pattern could be anything such as p or emily_dickinson\n",
    "\n",
    "# Find a pattern in the DNA sequence\n",
    "motifs = re.findall(r'SAM', DNA)\n",
    "\n",
    "# or to see as a list\n",
    "print(motifs)"
   ]
  },
  {
   "cell_type": "markdown",
   "metadata": {},
   "source": [
    "So it is good practice like searching for keys in a dictionary to use an if else statement to check whether there is a match"
   ]
  },
  {
   "cell_type": "code",
   "execution_count": 6,
   "metadata": {},
   "outputs": [
    {
     "name": "stdout",
     "output_type": "stream",
     "text": [
      "['TGA', 'TGA']\n"
     ]
    }
   ],
   "source": [
    "# Example 4.6\n",
    "# Name:re_findall.py\n",
    "# Description:  This programs demonstrates the use of regular expressions\n",
    "\n",
    "# Import the regular expression module\n",
    "import re\n",
    "\n",
    "DNA = 'AGTTGTAATGAGGCTGCCGTGATAaaaaaa'\n",
    "\n",
    "# Regular expressions are compiled into pattern objects\n",
    "# As in other variables pattern could be anything such as p or emily_dickinson\n",
    "\n",
    "# Find a pattern in the DNA sequence\n",
    "motifs = re.findall(r'TGA', DNA)\n",
    "\n",
    "if motifs :\n",
    "    print (motifs)\n",
    "else :\n",
    "    print (\"No match !!!\")"
   ]
  },
  {
   "cell_type": "markdown",
   "metadata": {},
   "source": [
    "Like with list or dictionaries with can iterate to print each item"
   ]
  },
  {
   "cell_type": "code",
   "execution_count": 7,
   "metadata": {},
   "outputs": [
    {
     "name": "stdout",
     "output_type": "stream",
     "text": [
      "TGA\n",
      "TGA\n"
     ]
    }
   ],
   "source": [
    "# Example 4.7\n",
    "# Name:re_findall.py\n",
    "# Description:  This programs demonstrates the use of regular expressions\n",
    "\n",
    "# Import the regular expression module\n",
    "import re\n",
    "\n",
    "DNA = 'AGTTGTAATGAGGCTGCCGTGATAaaaaaa'\n",
    "\n",
    "# Regular expressions are compiled into pattern objects\n",
    "# As in other variables pattern could be anything such as p or emily_dickinson\n",
    "\n",
    "# Find a pattern in the DNA sequence\n",
    "motifs = re.findall(r'TGA', DNA)\n",
    "\n",
    "if motifs :\n",
    "    for motif in motifs :\n",
    "       print (motif)\n",
    "else :\n",
    "    print (\"No match !!!\")"
   ]
  },
  {
   "cell_type": "markdown",
   "metadata": {},
   "source": [
    "Notice what happens below when we search for the pattern AAA using case sensistive and insensitive approaches"
   ]
  },
  {
   "cell_type": "code",
   "execution_count": 8,
   "metadata": {},
   "outputs": [
    {
     "name": "stdout",
     "output_type": "stream",
     "text": [
      "No match !!!\n",
      "['Aaa', 'aaa']\n"
     ]
    }
   ],
   "source": [
    "# Example 4.8\n",
    "# Name:re_findall.py\n",
    "# Description:  This programs demonstrates the use of regular expressions\n",
    "\n",
    "# Import the regular expression module\n",
    "import re\n",
    "\n",
    "DNA = 'AGTTGTAATGAGGCTGCCGTGATAaaaaaa'\n",
    "\n",
    "# Regular expressions are compiled into pattern objects\n",
    "# As in other variables pattern could be anything such as p or emily_dickinson\n",
    "\n",
    "# Find a pattern in the DNA sequence\n",
    "motifs = re.findall(r'AAA', DNA)\n",
    "\n",
    "if motifs :\n",
    "    print (motif)\n",
    "else :\n",
    "    print (\"No match !!!\")\n",
    "\n",
    "\n",
    "# Find a pattern in the DNA sequence\n",
    "motifs = re.findall(r'AAA', DNA, re.I) # re.I is equivalent to re.IGNORECASE\n",
    "\n",
    "if motifs :\n",
    "    print (motifs)\n",
    "else :\n",
    "    print (\"No match !!!\")\n"
   ]
  },
  {
   "cell_type": "markdown",
   "metadata": {},
   "source": [
    "Notice that in the second search for AAA it only found 2 patterns.  In this case the search for the second match begins after the last character for the first match.  Finding overlapping patterns with just one regular expression is actually pretty difficult, as most uses specifically don't want overlapping matches.  In the near future Python will have the flag overlapped=True which can be used to find overlapping patterns.\n",
    "\n",
    "## Finditer\n",
    "\n",
    "findall returns a list of strings. If one or more groups are present in the pattern, return a list of groups.  finditer returns an iterator yielding MatchObject instances. To find the coordinates for a pattern finditer is helpful."
   ]
  },
  {
   "cell_type": "code",
   "execution_count": 9,
   "metadata": {},
   "outputs": [
    {
     "name": "stdout",
     "output_type": "stream",
     "text": [
      "CTC\n",
      "(0, 3)\n",
      "0\n",
      "CTC\n",
      "(10, 13)\n",
      "10\n",
      "CTC\n",
      "(66, 69)\n",
      "66\n"
     ]
    }
   ],
   "source": [
    "# Example 4.9\n",
    "# Name:re_finditer.py\n",
    "# Description:  This programs demonstrates the use of regular expressions\n",
    "\n",
    "import re\n",
    "Protein = 'CTCMGDVEKGCTCKKIFIMKISQCGCHTVEKGGKHKTGPNLHGLFGRKTGCQAPGYSYTAANKNKGCTC'\n",
    "pattern = r'CTC'\n",
    "\n",
    "for motif in re.finditer(pattern, Protein) :\n",
    "    print (motif.group())\n",
    "    print (motif.span())\n",
    "    print (motif.start())\n",
    "if motif is None :\n",
    "    print (\"No match !!!\")\n"
   ]
  },
  {
   "cell_type": "markdown",
   "metadata": {},
   "source": [
    "A different test for the presence of motifs is used in finditer than above in findall. This is because the result of the motif search is not empty (even if there are no motifs). This is a peculiarity of finditer because it is expecting to find and iterate through patterns.  The first example gives no results and it appears that the code isn't working, but it is."
   ]
  },
  {
   "cell_type": "code",
   "execution_count": 10,
   "metadata": {},
   "outputs": [],
   "source": [
    "# Example 4.10\n",
    "# Name:re_finditer.py\n",
    "# Description:  This programs demonstrates the use of regular expressions\n",
    "import re\n",
    "Protein = 'CTCMGDVEKGCTCKKIFIMKISQCGCHTVEKGGKHKTGPNLHGLFGRKTGCQAPGYSYTAANKNKGCTC'\n",
    "pattern = r'SKY'\n",
    "\n",
    "for motif in re.finditer(pattern, Protein) :\n",
    "    print (motif.group())\n",
    "    print (motif.span())\n",
    "    print (motif.start())\n",
    "if motif is None :\n",
    "    print (\"No match !!!\")"
   ]
  },
  {
   "cell_type": "markdown",
   "metadata": {},
   "source": [
    "Use None to test for presence of the pattern"
   ]
  },
  {
   "cell_type": "code",
   "execution_count": 11,
   "metadata": {},
   "outputs": [
    {
     "name": "stdout",
     "output_type": "stream",
     "text": [
      "No match !!!\n"
     ]
    }
   ],
   "source": [
    "# Example 4.11\n",
    "# Name:re_finditer.py\n",
    "# using None to test for presence of the pattern\n",
    "import re\n",
    "Protein = 'CTCMGDVEKGCTCKKIFIMKISQCGCHTVEKGGKHKTGPNLHGLFGRKTGCQAPGYSYTAANKNKGCTC'\n",
    "pattern = r'SKY'\n",
    "\n",
    "motif = None\n",
    "\n",
    "for motif in re.finditer(pattern, Protein) :\n",
    "    print (motif.group())\n",
    "    print (motif.span())\n",
    "    print (motif.start())\n",
    "if motif is None :\n",
    "    print (\"No match !!!\")"
   ]
  },
  {
   "cell_type": "markdown",
   "metadata": {},
   "source": [
    "### Basic Patterns\n",
    "\n",
    "The power of regular expressions is that they can specify patterns, not just fixed characters. Here are the most basic patterns which match single chars:\n",
    "\n",
    "a, X, 9, < -- ordinary characters just match themselves exactly. The meta-characters ( . ^ $ * + ? { [ ] \\ | ( ) do not match themselves because they have special meanings (details below)\n",
    "\n",
    "\\ -- inhibit the \"specialness\" of a character. So, for example, use \\. to match a period or \\\\ to match a slash. If you are unsure if a character has special meaning, such as '@', you can put a slash in front of it, \\@, to make sure it is treated just as a character. \n",
    "\n",
    ". (a period) -- matches any single character except newline '\\n'\n",
    "\n",
    "\\w -- (lowercase w) matches a \"word\" character: a letter or digit or underbar [a-zA-Z0-9_]. Note that although \"word\" is the mnemonic for this, it only matches a single word char, not a whole word. \\W (upper case W) matches any non-word character.\n",
    "\n",
    "\\b -- boundary between word and non-word\n",
    "\n",
    "\\s -- (lowercase s) matches a single whitespace character -- space, newline, return, tab, form [ \\n\\r\\t\\f]. \\S (upper case S) matches any non-whitespace character.\n",
    "\n",
    "\\t, \\n, \\r -- tab, newline, return\n",
    "\n",
    "\\d -- decimal digit [0-9]\n",
    "\n",
    "^ = start, $ = end -- match the start or end of the string"
   ]
  },
  {
   "cell_type": "code",
   "execution_count": 12,
   "metadata": {},
   "outputs": [
    {
     "name": "stdout",
     "output_type": "stream",
     "text": [
      "CTC\n",
      "(0, 3)\n",
      "0\n",
      "CTC\n",
      "(10, 13)\n",
      "10\n",
      "CGC\n",
      "(23, 26)\n",
      "23\n",
      "CTC\n",
      "(66, 69)\n",
      "66\n"
     ]
    }
   ],
   "source": [
    "# Example 4.12\n",
    "# Name:re_finditer.py\n",
    "# Description:  This programs demonstrates the use of regular expressions\n",
    "\n",
    "import re\n",
    "Protein = 'CTCMGDVEKGCTCKKIFIMKISQCGCHTVEKGGKHKTGPNLHGLFGRKTGCQAPGYSYTAANKNKGCTC'\n",
    "pattern = r'C\\wC'\n",
    "\n",
    "for motif in re.finditer(pattern, Protein) :\n",
    "    print (motif.group())\n",
    "    print (motif.span())\n",
    "    print (motif.start())\n",
    "if motif is None :\n",
    "    print (\"No match !!!\")"
   ]
  },
  {
   "cell_type": "markdown",
   "metadata": {},
   "source": [
    "### Repetition\n",
    "\n",
    "Things get more interesting when you use + and * to specify repetition in the pattern\n",
    "\n",
    "<pre>\n",
    "+ match 1 or more occurrences of the pattern to its left, e.g. 'i+' = one or more i's\n",
    "* match 0 or more occurrences of the pattern to its left\n",
    "? match 0 or 1 occurrences of the pattern to its left \n",
    "</pre>\n",
    "\n",
    "First the search finds the leftmost match for the pattern, and second it tries to use up as much of the string as possible -- i.e. + and * go as far as possible (the + and * are said to be \"greedy\")."
   ]
  },
  {
   "cell_type": "code",
   "execution_count": 13,
   "metadata": {},
   "outputs": [
    {
     "name": "stdout",
     "output_type": "stream",
     "text": [
      "motif found using AAA+ :  Aaaaaaa\n",
      "motif found using AAA* :  AA\n",
      "motif found using AAA* :  Aaaaaaa\n",
      "motif found using AAA? :  AA\n",
      "motif found using AAA? :  Aaa\n",
      "motif found using AAA? :  aaa\n"
     ]
    }
   ],
   "source": [
    "# Example 4.13\n",
    "# Name:re_repetion.py\n",
    "# Description:  This programs demonstrates the use of regular expressions\n",
    "\n",
    "# Import the regular expression module\n",
    "import re\n",
    "\n",
    "DNA = 'AGTTGTAATGAGGCTGCCGTGATAaaaaaa'\n",
    "\n",
    "# Find a pattern in the DNA sequence\n",
    "motifs = re.findall(r'AAA+', DNA, re.I)\n",
    "\n",
    "for motif in motifs :\n",
    "   print ('motif found using AAA+ : ', motif)\n",
    "    \n",
    "# Find a pattern in the DNA sequence\n",
    "motifs = re.findall(r'AAA*', DNA, re.I)\n",
    "\n",
    "for motif in motifs :\n",
    "   print ('motif found using AAA* : ', motif)\n",
    "    \n",
    "# Find a pattern in the DNA sequence\n",
    "motifs = re.findall(r'AAA?', DNA, re.I)\n",
    "\n",
    "for motif in motifs :\n",
    "   print ('motif found using AAA? : ', motif)"
   ]
  },
  {
   "cell_type": "markdown",
   "metadata": {},
   "source": [
    "The above results are a bit of a mind bender.  Takes some time to think through the output.\n",
    "\n",
    "### Square brackets\n",
    "\n",
    "Square brackets can be used to indicate a set of chars, so [acgt] matches 'a' or 'c' or 'g' or 't'.  You can also use a dash to indicate a range, so [a-z] matches all lowercase letters. To use a dash without indicating a range, put the dash last, e.g. [abc-]. An up-hat (^) at the start of a square-bracket set inverts it, so [^ab] means any char except 'a' or 'b'. "
   ]
  },
  {
   "cell_type": "code",
   "execution_count": 14,
   "metadata": {},
   "outputs": [
    {
     "name": "stdout",
     "output_type": "stream",
     "text": [
      "motif found using G[ACGT]G :  GAG\n",
      "motif found using G[ACGT]G :  GTG\n",
      "motif found using A[^A]A :  ATA\n"
     ]
    }
   ],
   "source": [
    "# Example 4.14\n",
    "# Name:re_square_backets.py\n",
    "# Description:  This programs demonstrates the use of square brackets in regular expressions\n",
    "\n",
    "# Import the regular expression module\n",
    "import re\n",
    "\n",
    "DNA = 'AGTTGTAATGAGGCTGCCGTGATAaaaaaa'\n",
    "\n",
    "# Find a pattern in the DNA sequence\n",
    "motifs = re.findall(r'G[ACGT]G', DNA, re.I)\n",
    "\n",
    "for motif in motifs :\n",
    "   print ('motif found using G[ACGT]G : ', motif)\n",
    "\n",
    "# Find a pattern in the DNA sequence\n",
    "motifs = re.findall(r'A[^A]A', DNA, re.I)\n",
    "\n",
    "for motif in motifs :\n",
    "   print ('motif found using A[^A]A : ', motif)\n"
   ]
  },
  {
   "cell_type": "code",
   "execution_count": null,
   "metadata": {},
   "outputs": [],
   "source": [
    "# Example 4.15\n",
    "# Name:find_leucine_codons.py\n",
    "# Description:  This programs tests regular expression to find leucine codons with and or |\n",
    "\n",
    "\n",
    "# Import the regular expression module\n",
    "import re\n",
    "\n",
    "# RNA with all six leucine codons\n",
    "RNA = 'CUACUGCUCCUUUUAUUG'\n",
    "\n",
    "# Find a pattern in the RNA sequence\n",
    "\n",
    "pattern1 = re.compile('CU[ACGU]', re.IGNORECASE)\n",
    "pattern2 = re.compile('UU[AG]', re.IGNORECASE)\n",
    "\n",
    "motifs = re.findall(pattern1 or pattern2, RNA)\n",
    "\n",
    "for motif in motifs :\n",
    "   print ('motif with or: ', motif)\n",
    "\n",
    "motifs = re.findall(pattern1 and pattern2, RNA)\n",
    "\n",
    "for motif in motifs :\n",
    "   print ('motif with and: ', motif)\n",
    "\n",
    "motifs = re.findall(r'CU[ACGU]|UU[AG]', RNA)   \n",
    "\n",
    "for motif in motifs :\n",
    "   print ('motif with | : ', motif)"
   ]
  },
  {
   "cell_type": "code",
   "execution_count": 15,
   "metadata": {},
   "outputs": [
    {
     "name": "stdout",
     "output_type": "stream",
     "text": [
      "A protein found by algorithm 1 is :  MAALMRGLGDRV_QLQ_VVMGVINSQGAS_GYSHT_\n",
      "A protein found by algorithm 2 is :  MAALMRGLGDRV_\n",
      "A protein found by algorithm 2 is :  MGVINSQGAS_\n",
      "A protein found by algorithm 3 is :  MRGLGDRV_\n",
      "A protein found by algorithm 3 is :  MGVINSQGAS_\n"
     ]
    }
   ],
   "source": [
    "# Example 4.16\n",
    "# Name:find_protein.py\n",
    "# Description:  This program finds putive proteins from a string of amino acids\n",
    "\n",
    "# Import the regular expression module\n",
    "import re\n",
    "\n",
    "protein = 'MAALMRGLGDRV_QLQ_VVMGVINSQGAS_GYSHT_T'; \n",
    "\n",
    "# Algorithm 1\n",
    "# This regular expression finds a protein that starts with M\n",
    "# Then contains any letter followed by a stop\n",
    "# It is considered a greedy algorithm because it finds the longest string between M and _\n",
    "pattern = r'M[\\w]*_'\n",
    "motifs = re.findall(pattern, protein)\n",
    "if motifs :\n",
    "    for motif in motifs :\n",
    "       print ('A protein found by algorithm 1 is : ',  motif)\n",
    "else :\n",
    "    print ('No putative protein was found by algorithm 1')\n",
    "\n",
    "\n",
    "# Algorithm 2\n",
    "# This regular expression finds a protein that starts with M\n",
    "# Then contains any letter followed by a stop\n",
    "# The *? renders it a non greedy algorithm that finds the next stop\n",
    "pattern = r'M[\\w]*?_'\n",
    "motifs = re.findall(pattern, protein)\n",
    "if motifs :\n",
    "    for motif in motifs :\n",
    "       print ('A protein found by algorithm 2 is : ', motif)\n",
    "else :\n",
    "    print ('No putative protein was found by algorithm 2')\n",
    "\n",
    "# Algorithm 3\n",
    "# This regular expression finds a protein that starts with M\n",
    "# Then contains any letter followed by a stop\n",
    "# The *? renders it a non greedy algorithm that finds the next stop\n",
    "# The M[^M] means the string can not contain M except at the start\n",
    "pattern = r'M[^M]*?_'\n",
    "motifs = re.findall(pattern, protein)\n",
    "\n",
    "if motifs :\n",
    "    for motif in motifs :\n",
    "       print ('A protein found by algorithm 3 is : ', motif)\n",
    "else :\n",
    "    print ('No putative protein was found by algorithm 3')"
   ]
  },
  {
   "cell_type": "markdown",
   "metadata": {},
   "source": [
    "Algorithm 1 is obviously wrong since the protein contains a stop codon in the middle.  In theory either algorithm 2 or 3 could lead to a correct protein protein.  However, usually it is the longer protein that includes the M in the sequence that is correct.  Gene prediction programs include more information such as the ribosomal binding site motif to help distinquish between proteins in Algorithm 2 and 3.  \n",
    "\n",
    "Note:  Although I left out the else statement that does something (e.g. print) if there is no match from many of the above examples.  It is good practice to leave it in.  "
   ]
  },
  {
   "cell_type": "markdown",
   "metadata": {},
   "source": [
    "## Exercises\n",
    "\n",
    "1. Write a program to find the motifs with the pattern CGIC in the protein sequence  'MGDVEKGKKIFIMKCSQCHTVEKGGKHKTGPNLHGLCCCCFGRKTGQAPGYSYTAANKNKGIIWGEDTLMEYLENPKKYIPGTKMIFVGICGICKKKEERADLIAYLKKATNE'\n",
    "\n",
    "2. Write a program to find the heme motifs with the pattern CxxC where x can be any amino acid in the protein sequence (use a match to any character)  'MGDVEKGKKIFIMKCSQCHTVEKGGKHKTGPNLHGLCCCCFGRKTGQAPGYSYTAANKNKGIIWGEDTLMEYLENPKKYIPGTKMIFVGICGICKKKEERADLIAYLKKATNE'\n",
    "\n",
    "3. Modify the above program so that it also prints out the coordinates of each the heme motif in each protein.\n",
    "\n",
    "4. Search for possible stop codons in the DNA sequence 'ATGGTTGAAATGAGGCTAAGCCGTGATAG'\n",
    "\n",
    "5. Using a list of the six DNA sequences and your code from Lab 3 Part 1 Exercise 2 search for possible stop codons in all sequences.\n",
    "\n",
    "6. Using a dictionary of the six DNA sequences and your code from Lab 3 Part 2 Exercise 2 search for possible stop codons in all sequences.\n",
    "\n",
    "7. Write a program for finding protein sequences in the DNA sequence below.  Use your code from Lab 3 Part 2 Exercise 3 that translates a DNA sequence in all 3 reframes then use Algorthim 2 in Example 4.16 to find the protein(s).\n",
    "\n",
    "'TTACGATGATGCAGGAATCTGCGACAGAGACAATAAGCAACAGTTCAATGAATCAAAATGGAATGAGCACTCTAA\n",
    "GCAGCCAATTAGATGCTGGCAGCAGAGATGGAAGATCAAGTGGTGACACCAGCTCTGAAGTAAGCACAGT\n",
    "AGAACTGCTGCATCTGCAACAACAGCAGGCTCTCCAGGCAGCAAGACAACTTCTTTTACAGCAGCAAACA\n",
    "AGTGGATTGAAATCTCCTAAGAGCAGTGATAAACAGAGACCACTGCAGGTGCCTGTGTCAGTGGCCATGA\n",
    "TGACTCCCCAGGTGATCACCCCTCAGCAAATGCAGCAGATCCTTCAGCAACAAGTCCTGTCTCCTCAGCA\n",
    "GCTACAAGCCCTTCTCCAACAACAGCAGGCTGTCATGCTGCAGCAGGATTTTTTGGATTCTGGATTGGAA\n",
    "AATTTCAGAGCTGCCTTGGAAAAAAATCAACAACTACAAGAGTTTTACAAGAAACAGCAAGAGCAGTTAC\n",
    "ATCTTCAGCTTTTGCAGCAGCAGCAGCAACAGCAGCAGCAGCAACAACAGCAGCAACAACAGCAGCAGCA\n",
    "ACAACAACAACAACAGCAGCAACAACAGCAGCAGCAGCAGCAACAGCAGCAGCAGCAGCAACAGCATCCT\n",
    "GGAAAGCAAGCGAAAGAGCAGCAGCAGCAGCAGCAGCAGCAACAGCAATTGGCAGCCCAGCAGCTTGTCT\n",
    "TCCAGCAGCAGCTTCTCCAGATGCAACAACTCCAGCAGCAGCAGCATCTGCTCAGCCTTCAGCGTCAGGG\n",
    "ACTCATCTCCATTCCACCTGGCCAGGCAGCACTTCCTGTCCAATCGCTGCCTCAAGCTGGCTTAAGTCCT\n",
    "GCTGAGATTCAGCAGTTATGGAAAGAAGTGACTGGAGTTCACAGTATGGAAGACAATGGCATTAAACATG\n",
    "GAGGGCTAGACCTCACTACTAACAATTCCTCCTCGACTACCTCCTCCAACACTTCCAAAGCATCACCACC\n",
    "AATAACTCATCATTCCATAGTGAATGGACAGTCTTCAGTTCTAAGTGCAAGACGAGACAGCTCGTCACAT\n",
    "GAGGAGACTGGGGCCTCTCACACTCTCTATGGCCATGGAGTTTGCAAATGGCCAGGCTGTGAAAGCATTT\n",
    "GTGAAGATTTTGGACAGTTTTTAAAGCACCTTAACAATGAACACGCATTGGATGACCGAAGCACTGCTCA\n",
    "GTGTCGAGTGCAAATGCAGGTGGTGCAACAGTTAGAAATACAGCTTTCTAAAGAACGCGAACGTCTTCAA\n",
    "GCAATGATGACCCACTTGCACATGCGACCCTCAGAGCCCAAACCATCTCCCAAACCTCTAAATCTGGTGT\n",
    "CTAGTGTCACCATGTCGAAGAATATGTTGGAGACATCCCCACAGAGCTTACCTCAAACCCCTACCACACC\n",
    "AACGGCCCCAGTCACCCCGATTACCCAGGGACCCTCAGTAATCACCCCAGCCAGTGTGCCCAATGTGGGA\n",
    "GCCATACGAAGGCGACATTCAGACAAATACAACATTCCCATGTCATCAGAAATTGCCCCAAACTATGAAT\n",
    "TTTATAAAAATGCAGATGTCAGACCTCCATTTACTTATGCAACTCTCATAAGGCAGGCTATCATGGAGTC\n",
    "ATCTGACAGGCAGTTAACACTTAATGAAATTTACAGCTGGTTTACACGGACATTTGCTTACTTCAGGCGT\n",
    "AATGCAGCAACTTGGAAGAATGCAGTACGTCATAATCTTAGCCTGCACAAGTGTTTTGTTCGAGTAGAAA\n",
    "ATGTTAAAGGAGCAGTATGGACTGTGGATGAAGTAGAATACCAGAAGCGAAGGTCACAAAAGATAACAGG\n",
    "AAGTCCAACCTTAGTAAAAAATATACCTACCAGTTTAGGCTATGGAGCAGCTCTTAATGCCAGTTTGCAG\n",
    "GCTGCCTTGGCAGAGAGCAGTTTACCTTTGCTAAGTAATCCTGGACTGATAAATAATGCATCCAGTGGCC\n",
    "TACTGCAGGCCGTCCACGAAGACCTCAATGGTTCTCTGGATCACATTGACAGCAATGGAAACAGTAGTCC\n",
    "GGGCTGCTCACCTCAGCCGCACATACATTCAATCCACGTCAAGGAAGAGCCAGTGATTGCAGAGGATGAA\n",
    "GACTGCCCAATGTCCTTAGTGACAACAGCTAATCACAGTCCAGAATTAGAAGACGACAGAGAGATTGAAG\n",
    "AAGAGCCTTTATCTGAAGATCTGGAATGAAATTATGTTATTATATTGAA'\n"
   ]
  }
 ],
 "metadata": {
  "kernelspec": {
   "display_name": "Python 3 (ipykernel)",
   "language": "python",
   "name": "python3"
  },
  "language_info": {
   "codemirror_mode": {
    "name": "ipython",
    "version": 3
   },
   "file_extension": ".py",
   "mimetype": "text/x-python",
   "name": "python",
   "nbconvert_exporter": "python",
   "pygments_lexer": "ipython3",
   "version": "3.9.5"
  }
 },
 "nbformat": 4,
 "nbformat_minor": 1
}
