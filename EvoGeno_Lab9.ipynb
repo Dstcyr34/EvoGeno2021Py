{
 "cells": [
  {
   "cell_type": "markdown",
   "id": "angry-suspect",
   "metadata": {},
   "source": [
    "# Lab 9 : Unity and Massachusetts Green HPCs\n",
    "\n",
    "There are several options available for using high performance computers at minimal or no cost to graduate students at UMass. MGHPCC is the older HPC with more programs available. Unity is a newer HPC still in development, but has a more modern JuptyerLab interface that graduate students have been using for this class.\n",
    "\n",
    "## MGHPCC\n",
    "\n",
    "You are also likely to need to use our main workhorse HPC. The MGHPCC is an intercollegiate high-performance computing facility located in Holyoke, Massachusetts. MGHPCC is for research computing, only Principal Investigators (PIs) as defined by the local school and their staff or authorized collaborators may receive accounts on MGHPCC.  PI authorization is required for all new account requests.  For more details see - http://wiki.umassrc.org/wiki/index.php/Main_Page. The PI (Professor) you work with first needs to register for a lab account and then can approved your addition to the lab account.  Here is the link to register for a MGPHCC account -  https://www.umassrc.org/hpc/index.php  \n",
    "\n",
    "Open OnDemand provides a web interface to a number of cluster resources including Rstudio and Jupyter Notebook, and Gnome X11 desktop.  Current users of the cluster can log in to this web interface at https://www.umassrc.org:444 from your local campus network or VPN using your cluster username and password. *Note you may need to set up a VPN for remote access. - https://www.umass.edu/it/support/vpn/howinstallanduseglobalprotectvpnclient \n",
    "\n",
    "## Unity\n",
    "\n",
    "If you are taking the graduate version (697) of this class I have recommended creating an account on Unity on new research HPC. The new JupyterLab interface doesn't require VPN access, is easy to use, and includes a terminal so that you don't have to login throuigh ssh with PUTTY or your local terminal program. Like with the MGHPCC, the PI (Professor) you work with first needs to register for a lab account and then can approved your addition to the lab account.  Here is the registration link. https://unity.rc.umass.edu/index.php. In this lab we will go over the documentation on Unity https://unity.rc.umass.edu/docs/\n",
    "\n",
    "\n",
    "\n",
    "\n",
    "module av\n",
    "\n",
    "module load miniconda/4.8.3\n",
    "conda init bash (you may need to right click and refresh the terminal or restart terminal)\n",
    "conda activate vs2"
   ]
  },
  {
   "cell_type": "markdown",
   "id": "seasonal-texas",
   "metadata": {},
   "source": [
    "### Scheduling Jobs\n",
    "\n",
    "You are used to running software on your computer in an interactive mode in which you wait for the results. Often when working on a HPC (like Unity or Kbase) the program may take hours and even days. In addition other users are trying to run jobs at the same time. Therefore a scheduler is used to determine the order in which jobs are run. The que is the list of jobs waiting to be run when the requested computer nodes and CPUs become available.  Slurm is the job scheduler for Unity.\n",
    "\n"
   ]
  },
  {
   "cell_type": "markdown",
   "id": "advanced-research",
   "metadata": {},
   "source": [
    "### Software currently available on Unity\n",
    "\n",
    "Unity has some bioinformatics tools installed and you can request others. To see the software that is installed run `module av`"
   ]
  },
  {
   "cell_type": "code",
   "execution_count": 6,
   "id": "worth-married",
   "metadata": {},
   "outputs": [
    {
     "data": {
      "text/plain": [
       "['',\n",
       " '----------------------------- /modules/modulefiles -----------------------------',\n",
       " '   BBMap/38.90                    htslib/1.12',\n",
       " '   R/4.0.3                        jags/4.3.0',\n",
       " '   SPAdes/3.15.1                  java/11.0.2',\n",
       " '   bcftools/1.12                  julia/1.1.1',\n",
       " '   bfc/1.0.0                      lapack/3.9.0',\n",
       " '   boost/1.73.0                   libtool/2.4.6',\n",
       " '   cmake/3.15.0                   mathematica/12.0',\n",
       " '   cuda/8.0                       mathematica/12.2.0        (D)',\n",
       " '   cuda/9.2                       matlab/r2021a',\n",
       " '   cuda/10.1.243                  miniconda/4.8.3           (L)',\n",
       " '   cuda/10.2.89                   mpc/1.1.0',\n",
       " '   cuda/11.0.1                    mpfr/3.1.6',\n",
       " '   cuda/11.3.1             (D)    mpfr/4.1.0                (D)',\n",
       " '   eigen/3.3.7                    netcdf/4.7.4',\n",
       " '   fastqc/0.11.9                  openblas/0.3.10',\n",
       " '   fftw/2.1.5                     opencl/2.2.11',\n",
       " '   fftw/3.3.8              (D)    opengl/1.3.1',\n",
       " '   gcc/5.5.0                      openmpi/4.0.4',\n",
       " '   gcc/6.5.0                      openmpi/4.1.0             (D)',\n",
       " '   gcc/8.4.0                      parallel_studio_xe/2020.2',\n",
       " '   gcc/9.3.0                      python/2.7.16',\n",
       " '   gcc/10.2.0              (D)    python/3.8.5',\n",
       " '   gmp/6.2.0                      python/3.9.1              (D)',\n",
       " '   gmsh/4.4.1                     qt/5.15.0',\n",
       " '   go/1.14.6                      samtools/1.12',\n",
       " '   gromacs/2020.2_AVX_512         singularity/3.7.0',\n",
       " '   gromacs/2020.2_AVX2_256 (D)    trimmomatic/0.39',\n",
       " '   hdf5/1.12.0                    vtk/8.2.0',\n",
       " '',\n",
       " '  Where:',\n",
       " '   D:  Default Module',\n",
       " '   L:  Module is loaded',\n",
       " '',\n",
       " 'Use \"module spider\" to find all possible modules and extensions.',\n",
       " 'Use \"module keyword key1 key2 ...\" to search for all possible modules matching',\n",
       " 'any of the \"keys\".',\n",
       " '',\n",
       " '']"
      ]
     },
     "execution_count": 6,
     "metadata": {},
     "output_type": "execute_result"
    }
   ],
   "source": [
    "# Note that I am running these commands through Jupyter notebook and thus need to use `%system` which I would not need use terminal.\n",
    "\n",
    "%system module av"
   ]
  },
  {
   "cell_type": "markdown",
   "id": "mathematical-switch",
   "metadata": {},
   "source": [
    "You can see python itself and some of the tools (fastqc, SPAdes and trimmomatic) that we have been using on Kbase. "
   ]
  },
  {
   "cell_type": "markdown",
   "id": "dense-classification",
   "metadata": {},
   "source": [
    "### Running software\n",
    "\n",
    "Before using software on Unity and MGHPCC you must first `load` the software and when you are done you can `unload` the software. See the documentation for other module commands."
   ]
  },
  {
   "cell_type": "code",
   "execution_count": 7,
   "id": "broke-increase",
   "metadata": {},
   "outputs": [
    {
     "data": {
      "text/plain": [
       "[]"
      ]
     },
     "execution_count": 7,
     "metadata": {},
     "output_type": "execute_result"
    }
   ],
   "source": [
    "%system module load fastqc/0.11.9 "
   ]
  },
  {
   "cell_type": "code",
   "execution_count": 8,
   "id": "specified-honey",
   "metadata": {},
   "outputs": [
    {
     "data": {
      "text/plain": [
       "['', 'Currently Loaded Modules:', '  1) miniconda/4.8.3', '', ' ', '']"
      ]
     },
     "execution_count": 8,
     "metadata": {},
     "output_type": "execute_result"
    }
   ],
   "source": [
    "# To see currently loaded modules. Note this does not seem to display correctly in Jupyter Notebook, but does in Terminal.\n",
    "%system module list"
   ]
  },
  {
   "cell_type": "code",
   "execution_count": 9,
   "id": "seventh-health",
   "metadata": {},
   "outputs": [
    {
     "data": {
      "text/plain": [
       "[]"
      ]
     },
     "execution_count": 9,
     "metadata": {},
     "output_type": "execute_result"
    }
   ],
   "source": [
    "# To unload modules\n",
    "%system module unload fastqc/0.11.9 "
   ]
  },
  {
   "cell_type": "markdown",
   "id": "assigned-electricity",
   "metadata": {},
   "source": [
    "## Conda, Anaconda and Miniconda\n",
    "\n",
    "Conda is an open source package management system and environment management system that runs on Windows, macOS and Linux. It was created for Python programs, but it can package and distribute software for any language. Increasing bioinformatics tools are distributed as a conda package that includes not only the software, but other accessory programs required to run it. Because of this it makes it much easier to get a program running. \n",
    "\n",
    "Anaconda \n",
    "\n",
    "In its default configuration, conda can install and manage the thousand packages at repo.anaconda.com that are built, reviewed and maintained by Anaconda. You can install Anaconda on your own computer using the free individual version https://www.anaconda.com/products/individual. This includes Python, Jupyter, R and many other tools for doing data science.\n",
    "\n",
    "Miniconda is a free minimal installer for conda. It is a small, bootstrap version of Anaconda that includes only conda, Python, the packages they depend on, and a small number of other useful packages, including pip, zlib and a few others. Miniconda is installed on Unity."
   ]
  },
  {
   "cell_type": "markdown",
   "id": "preceding-badge",
   "metadata": {},
   "source": [
    "### Virsorter2\n",
    "\n",
    "Virsorter2 (https://microbiomejournal.biomedcentral.com/articles/10.1186/s40168-020-00990-y) is a tool for identifying viruses in contigs and bins. It is available on github - https://github.com/jiarong/VirSorter2  We will use Option 1 (bioconda version) to install Virsorter on Unity. Note the developmental version (Option 2) had installation errors on Unity. "
   ]
  },
  {
   "cell_type": "code",
   "execution_count": null,
   "id": "recognized-complement",
   "metadata": {},
   "outputs": [],
   "source": [
    "# First start miniconda\n",
    "%system module miniconda/4.8.3"
   ]
  },
  {
   "cell_type": "markdown",
   "id": "critical-discovery",
   "metadata": {},
   "source": [
    "Then follow the directions on the Virsorter2 github page for Option 2.  Run the test file to make sure your installation works"
   ]
  },
  {
   "cell_type": "markdown",
   "id": "southeast-tobacco",
   "metadata": {},
   "source": [
    "### Running Virsorter2 on our metagenomes\n",
    "\n",
    "From Kbase download the genoming binning files to your computer. It should include a .fasta file for each genome bin. Upload one of the files that is not annotated as a bacteria (e.g.root) and running it on Virsorter2."
   ]
  }
 ],
 "metadata": {
  "kernelspec": {
   "display_name": "Python [conda env:jupyter-2-1]",
   "language": "python",
   "name": "conda-env-jupyter-2-1-py"
  },
  "language_info": {
   "codemirror_mode": {
    "name": "ipython",
    "version": 3
   },
   "file_extension": ".py",
   "mimetype": "text/x-python",
   "name": "python",
   "nbconvert_exporter": "python",
   "pygments_lexer": "ipython3",
   "version": "3.9.1"
  }
 },
 "nbformat": 4,
 "nbformat_minor": 5
}
