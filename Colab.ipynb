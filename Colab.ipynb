{
 "cells": [
  {
   "cell_type": "markdown",
   "id": "56b55f2e",
   "metadata": {},
   "source": [
    "## Step 1: Use colab notebook as a Shell\n",
    "\n",
    " Go to Google Colaboratory website - https://colab.research.google.com\n",
    "\n",
    "Log into your UMass account\n",
    "\n",
    "Open a new notebook. \n",
    "\n",
    "The notebook will be save in your Gdrive under Colab Notebooks\n",
    "\n"
   ]
  },
  {
   "cell_type": "code",
   "execution_count": null,
   "id": "5d02ba07",
   "metadata": {},
   "outputs": [],
   "source": []
  }
 ],
 "metadata": {
  "kernelspec": {
   "display_name": "Python 3 (ipykernel)",
   "language": "python",
   "name": "python3"
  },
  "language_info": {
   "codemirror_mode": {
    "name": "ipython",
    "version": 3
   },
   "file_extension": ".py",
   "mimetype": "text/x-python",
   "name": "python",
   "nbconvert_exporter": "python",
   "pygments_lexer": "ipython3",
   "version": "3.9.5"
  }
 },
 "nbformat": 4,
 "nbformat_minor": 5
}
