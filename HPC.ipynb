{
 "cells": [
  {
   "cell_type": "markdown",
   "id": "3092f931",
   "metadata": {},
   "source": [
    "\n",
    "### Why HPC\n",
    "\n",
    "Early steps in genome data processing, particularly assembly and read mapping are computational intensive. Even with a modest data set of a few dozen samples it is difficult/impossible to do on your lap. There are several options available for using high performance computers at minimal or no cost to graduate students at UMass. MGHPCC is the old HPC with more programs available. Unity is a newer HPC still in development, but has a more modern Juptyer interface. \n",
    "\n",
    "### Unity\n",
    "\n",
    "If you are taking the graduate version (697) of this class I recommend creating an account on Unity on new research HPC to use the new JupyterLab interface - https://unity.rc.umass.edu/index.php.  \n",
    "\n",
    "### MGHPCC\n",
    "\n",
    "You are also likely to need to use our main workhorse HPC. If you are taking the graduate version (697) of this class please register for a MGPHCC account -  https://www.umassrc.org/hpc/index.php The MGHPCC is an intercollegiate high-performance computing facility located in Holyoke, Massachusetts. MGHPCC is for research computing, only Principal Investigators (PIs) as defined by the local school and their staff or authorized collaborators may receive accounts on MGHPCC.  PI authorization is required for all new account requests.  For more details see - http://wiki.umassrc.org/wiki/index.php/Main_Page.  Do not list me as the PI unless you are working in research lab.\n",
    "\n",
    "In addition to accessing the cluster via the command line. Open OnDemand provides a web interface to a number of cluster resources including Rstudio and Jupyter Notebook, and Gnome X11 desktop.  Current users of the cluster can log in to this web interface at https://www.umassrc.org:444 from your local campus network or VPN using your cluster username and password. *Note you may need to set up a VPN for remote access. - https://www.umass.edu/it/support/vpn/howinstallanduseglobalprotectvpnclient \n",
    "\n",
    "See the [MGHPCC login](https://www.umassrc.org/wiki/index.php/Connecting_to_the_Cluster) for instructions on how to log in. On Linux and OSX computers SSH is available through the __Terminal__ application that is already installed. For Windows users the most popular option is to download [Putty](https://www.chiark.greenend.org.uk/~sgtatham/putty/).\n",
    "\n",
    "To transfer data see instructions on [MGHPCC data transfer](https://www.umassrc.org/wiki/index.php/Transferring_Data). Most of what we do in this class can be run using interactive mode.  \n",
    "\n",
    "\n",
    "\n",
    "\n",
    "\n",
    "\n",
    "\n",
    "\n",
    "\n"
   ]
  },
  {
   "cell_type": "code",
   "execution_count": null,
   "id": "6f07705c",
   "metadata": {},
   "outputs": [],
   "source": []
  }
 ],
 "metadata": {
  "kernelspec": {
   "display_name": "Python 3 (ipykernel)",
   "language": "python",
   "name": "python3"
  },
  "language_info": {
   "codemirror_mode": {
    "name": "ipython",
    "version": 3
   },
   "file_extension": ".py",
   "mimetype": "text/x-python",
   "name": "python",
   "nbconvert_exporter": "python",
   "pygments_lexer": "ipython3",
   "version": "3.9.5"
  }
 },
 "nbformat": 4,
 "nbformat_minor": 5
}
