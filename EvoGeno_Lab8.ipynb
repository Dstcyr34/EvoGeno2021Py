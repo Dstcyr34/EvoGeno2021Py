{
 "cells": [
  {
   "cell_type": "markdown",
   "id": "vocational-injection",
   "metadata": {},
   "source": [
    "## Lab 8 : Kbase\n",
    "\n",
    "### KBase\n",
    "\n",
    "KBase (https://www.kbase.us/) was developed by the Department of Energy to facilate genomics and systems biology research. Many of the popular tools for research have been installed on KBase. Kbase provides easy access to high performance computers using a modified version of Jupyter notebooks for the interface. \n",
    "\n",
    "Everyone should already have a KBase account. Please request to join the organization EvoGeno - https://narrative.kbase.us/#/orgs/evogeno-2021\n",
    "\n",
    "Today we will\n",
    "\n",
    "1. Review the documentation on Kbase - getting started  - https://docs.kbase.us/getting-started\n",
    "2. Walk through a narrative constructed as a tutorial - Genome Extraction from Shotgun Metagenome Sequence Data\n",
    "Mikayla Clark, Benjamin Allen, Meghan Drake, Dylan C Chivian, Shane Canon (admin) - https://kbase.us/n/33233/351/\n",
    "3. Discuss project teams and workflows based on our project narrative - https://narrative.kbase.us/narrative/102157\n",
    "4. Create our own teams narratives and workflows\n"
   ]
  },
  {
   "cell_type": "markdown",
   "id": "funded-vocabulary",
   "metadata": {},
   "source": [
    "### What to turn in\n",
    "\n",
    "At the end of class please upload your narrative link to Moodle."
   ]
  }
 ],
 "metadata": {
  "kernelspec": {
   "display_name": "Python 3",
   "language": "python",
   "name": "python3"
  },
  "language_info": {
   "codemirror_mode": {
    "name": "ipython",
    "version": 3
   },
   "file_extension": ".py",
   "mimetype": "text/x-python",
   "name": "python",
   "nbconvert_exporter": "python",
   "pygments_lexer": "ipython3",
   "version": "3.8.8"
  }
 },
 "nbformat": 4,
 "nbformat_minor": 5
}
