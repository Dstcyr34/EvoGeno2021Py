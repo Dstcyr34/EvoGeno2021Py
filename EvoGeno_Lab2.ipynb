{
 "cells": [
  {
   "cell_type": "markdown",
   "metadata": {
    "collapsed": true
   },
   "source": [
    "# Lab 2 : Detecting DNA polymorphisms with conditional statements and selection with loops\n",
    "\n",
    "## Learning Objectives\n",
    "\n",
    "* Escapes\n",
    "* Conditional Statements\n",
    "* Loops"
   ]
  },
  {
   "cell_type": "markdown",
   "metadata": {},
   "source": [
    "## 2.1 Escape characters\n",
    "\n",
    "Non-printable characters like line breaks are called escapes that can be represented using backslash notation.  We will make frequent use of\n",
    "\n",
    "    \\n\tNew line\n",
    "    \\t\tTab\n",
    "\n",
    "An escape character gets interpreted in a single quoted as well as double and triple quoted strings.   See the python documentation for a complete list of escape characters.  The backslash can also be used to negate the effect of a special character which is particular useful in printing.  A backslash can also be used to print a single or double quote without resorting to triple quotes.\n"
   ]
  },
  {
   "cell_type": "code",
   "execution_count": 1,
   "metadata": {},
   "outputs": [
    {
     "name": "stdout",
     "output_type": "stream",
     "text": [
      "Hello \n",
      " world!\n",
      "Hello \t\t world!\n",
      "Hello \\n world!\n",
      "I'm here!\n"
     ]
    }
   ],
   "source": [
    "# Example 2.1\n",
    "# Description: A program to test escape characters\n",
    "\n",
    "print ('Hello \\n world!')\n",
    "print ('Hello \\t\\t world!')\n",
    "print ('Hello \\\\n world!')\n",
    "print ('I\\'m here!')"
   ]
  },
  {
   "cell_type": "markdown",
   "metadata": {},
   "source": [
    "## 2.2 Flow Control\n",
    "\n",
    "Two of the most essential components of programming are logic and repetition. To add these to your Python programs, there are three key words that you will need: <b>if</b>, <b>for</b>, and <b>while</b>.  \n",
    "\n",
    "A program executes from the first statement at the top of the program to the last statement at the bottom, in order, unless told to do otherwise. You can control the order in which the statements of a program are executed by using conditional statements and loops. A conditional statement executes a group of statements only if the conditional test succeeds; otherwise, it just skips the group of statements.\n",
    "\n",
    "A conditional evaluates whether a statement is \"true\" or \"false\". However, \"What is truth?\" it is a question to carefully consider when programming. \n",
    "\n",
    "The basic form of an <b>if</b> statement is \n",
    "\n",
    "<pre>\n",
    "if (condition) :\n",
    "    block\n",
    "</pre>\n",
    "\n",
    "Here is an example program:"
   ]
  },
  {
   "cell_type": "code",
   "execution_count": 2,
   "metadata": {},
   "outputs": [
    {
     "name": "stdout",
     "output_type": "stream",
     "text": [
      "This is a short piece of DNA\n"
     ]
    }
   ],
   "source": [
    "# Example 2.2\n",
    "# Description:  This program tests the if statement\n",
    "\n",
    "DNA = 'AGTTGTAATGAGGCTGCCGTGATA'\n",
    "DNA_length = len(DNA)\n",
    "\n",
    "if (DNA_length < 100) :\n",
    "    print ('This is a short piece of DNA')"
   ]
  },
  {
   "cell_type": "markdown",
   "metadata": {},
   "source": [
    "The are 3 important things to remember with the <b>if</b> statement; the brackets (), the colon and to indent the block following the colon.  There can be multiple lines in the block, as long as they are all indented the same amount.\n",
    "\n",
    "### if...else\n",
    "\n",
    "The basic form of an <b>if</b> statement is \n",
    "<pre>\n",
    "if (condition) :\n",
    "    block\n",
    "else :\n",
    "    block\n",
    "</pre>"
   ]
  },
  {
   "cell_type": "code",
   "execution_count": 3,
   "metadata": {},
   "outputs": [
    {
     "name": "stdout",
     "output_type": "stream",
     "text": [
      "This is a short piece of DNA\n"
     ]
    }
   ],
   "source": [
    "# Example 2.3\n",
    "# Description:  This program tests the if...else statement\n",
    "\n",
    "DNA = 'AGTTGTAATGAGGCTGCCGTGATA'\n",
    "DNA_length = len(DNA)\n",
    "\n",
    "if (DNA_length > 100) :\n",
    "    print ('This is a long piece of DNA')\n",
    "\n",
    "else :\n",
    "    print ('This is a short piece of DNA')"
   ]
  },
  {
   "cell_type": "markdown",
   "metadata": {},
   "source": [
    "### if...elif...else\n",
    "\n",
    "We could also use an if..elif..else statement which has the form\n",
    "\n",
    "<pre>\n",
    "if (condition) :\n",
    "    block\n",
    "elif (condition 2) :\n",
    "    block\n",
    "elif (condition 3) :\n",
    "    block\n",
    "else :\n",
    "    block\n",
    "</pre>\n"
   ]
  },
  {
   "cell_type": "code",
   "execution_count": 4,
   "metadata": {},
   "outputs": [
    {
     "name": "stdout",
     "output_type": "stream",
     "text": [
      "This is a short piece of DNA\n"
     ]
    }
   ],
   "source": [
    "# Example 2.4\n",
    "# Description:  This program tests the if...elif statement\n",
    "\n",
    "DNA = 'AGTTGTAATGAGGCTGCCGTGATA'\n",
    "DNA_length = len(DNA)\n",
    "\n",
    "if (DNA_length > 500) :\n",
    "    print ('This is a long piece of DNA')\n",
    "elif (100 < DNA_length <= 500) :\n",
    "    print ('This is a medium piece of DNA')\n",
    "else:\n",
    "    print ('This is a short piece of DNA')"
   ]
  },
  {
   "cell_type": "markdown",
   "metadata": {},
   "source": [
    "## 2.3 Operators\n",
    "\n",
    "In the above examples we used the greater than and less than operators.  Here are some of the other common Python operators\n",
    "\n",
    "### Comparison Operators\n",
    "\n",
    "<pre>\n",
    "==\tChecks if the value of two operands are equal or not, if yes then condition becomes true.\n",
    "!=\tChecks if the value of two operands are equal or not, if values are not equal then condition becomes true\n",
    "<>\tChecks if the value of two operands are equal or not, if values are not equal then condition becomes true.\n",
    ">=\tChecks if the value of left operand is greater than or equal to the value of right operand, if yes then condition becomes true.\n",
    "<=\tChecks if the value of left operand is less than or equal to the value of right operand, if yes then condition becomes true.\n",
    "</pre>\n",
    "\n",
    "### Membership Operators\n",
    "\n",
    "Python has membership operators, which test for membership in strings. There are two membership operators explained below:\n",
    "\n",
    "<pre>\n",
    "<b>in</b>\t    Evaluates to true if it finds a variable in the specified sequence and false otherwise.\t\n",
    "<b>not in</b>\tEvaluates to true if it does not finds a variable in the specified sequence and false otherwise.\n",
    "</pre>"
   ]
  },
  {
   "cell_type": "code",
   "execution_count": 5,
   "metadata": {},
   "outputs": [
    {
     "name": "stdout",
     "output_type": "stream",
     "text": [
      "This is probably a piece of DNA since it contains thymidine\n"
     ]
    }
   ],
   "source": [
    "# Example 2.5\n",
    "# Description:  This program tests the membership operator\n",
    "\n",
    "DNA = 'AGTTGTAATGAGGCTGCCGTGATA'\n",
    "\n",
    "if ('T' in DNA) :\n",
    "    print ('This is probably a piece of DNA since it contains thymidine')\n",
    "elif ('U' in DNA) :\n",
    "    print ('This is probably a piece of RNA since it contains uracil')"
   ]
  },
  {
   "cell_type": "markdown",
   "metadata": {},
   "source": [
    "### Logical Operators\n",
    "\n",
    "<pre>\n",
    "<b>and</b> - Called Logical AND operator. If both the operands are true then then condition becomes true.\n",
    "<b>or</b>  - Called Logical OR Operator. If any of the two operands are non zero then then condition becomes true.\n",
    "<b>not</b> - Called Logical NOT Operator. Use to reverses the logical state of its operand. If a condition is true then Logical NOT operator will make false.\n",
    "</pre>"
   ]
  },
  {
   "cell_type": "code",
   "execution_count": 6,
   "metadata": {},
   "outputs": [
    {
     "name": "stdout",
     "output_type": "stream",
     "text": [
      "This DNA sequence contains all 4 nucleotides\n"
     ]
    }
   ],
   "source": [
    "# Example 2.6\n",
    "# Description:  This program tests logical operators\n",
    "\n",
    "DNA = 'AGTTGTAATGAGGCTGCCGTGATA'\n",
    "\n",
    "if ('A' in DNA and 'C' in DNA and 'G' in DNA and 'T' in DNA) :\n",
    "    print ('This DNA sequence contains all 4 nucleotides')"
   ]
  },
  {
   "cell_type": "code",
   "execution_count": 7,
   "metadata": {},
   "outputs": [
    {
     "name": "stdout",
     "output_type": "stream",
     "text": [
      "DNA1 and DNA2 are the same \n",
      "AGTTGTAATGAGGCTGCCGTGATA\n",
      "AGTTGTAATGAGGCTGCCGTGATA\n",
      "\n",
      "DNA2 and DNA3 are not the same \n",
      "AGTTGTAATGAGGCTGCCGTGATA\n",
      "TCTTGTAATGAGCCTGCCGTGATT\n",
      "\n"
     ]
    }
   ],
   "source": [
    "# Example 2.7\n",
    "# A program that tests whether DNA fragments (strings) are identical\n",
    "\n",
    "# DNA fragments\n",
    "DNA1 = 'AGTTGTAATGAGGCTGCCGTGATA'\n",
    "DNA2 = 'AGTTGTAATGAGGCTGCCGTGATA'\n",
    "DNA3 = 'TCTTGTAATGAGCCTGCCGTGATT'\n",
    "\n",
    "# Test to see if the DNA sequences are the same\n",
    "\n",
    "if DNA1 == DNA2 :\n",
    "    print ('DNA1 and DNA2 are the same \\n%s\\n%s\\n' % (DNA1, DNA2))\n",
    "else :\n",
    "    print ('DNA1 and DNA2 are not the same \\n%s\\n%s\\n' % (DNA1, DNA2))\n",
    "\n",
    "if DNA2 == DNA3 :\n",
    "    print ('DNA2 and DNA3 are the same \\n%s\\n%s\\n' % (DNA2, DNA3))\n",
    "else :\n",
    "    print ('DNA2 and DNA3 are not the same \\n%s\\n%s\\n' % (DNA2, DNA3))"
   ]
  },
  {
   "cell_type": "code",
   "execution_count": 8,
   "metadata": {},
   "outputs": [
    {
     "name": "stdout",
     "output_type": "stream",
     "text": [
      "AGTTGTAATGAGGCTGCCGTGATA\n",
      "AGTTGTAATGAGGCTGCCGTGATA\n",
      "TGTTGTAATGAGCCTGCCGTGATT\n",
      "*.\n",
      "\n"
     ]
    }
   ],
   "source": [
    "# Example 2.8\n",
    "# A program that tests whether the nucleotides at a particular site are DNA at a site are conserved\n",
    "\n",
    "# DNA fragments\n",
    "DNA1 = 'AGTTGTAATGAGGCTGCCGTGATA'\n",
    "DNA2 = 'AGTTGTAATGAGGCTGCCGTGATA'\n",
    "DNA3 = 'TGTTGTAATGAGCCTGCCGTGATT'\n",
    "PATTERN = ''\n",
    "# tests whether the nucleotides at a particular site are DNA at a site are conserved\n",
    "\n",
    "if DNA1[0] != DNA2[0] or DNA1[0] != DNA3[0] :\n",
    "    PATTERN = PATTERN + '*'\n",
    "else :\n",
    "    PATTERN = PATTERN + '.'\n",
    "    \n",
    "if DNA1[1] != DNA2[1] or DNA1[1] != DNA3[1] :\n",
    "    PATTERN = PATTERN + '*'\n",
    "else :\n",
    "    PATTERN = PATTERN + '.'\n",
    "    \n",
    "# This is getting redundant.  Let's learn loops to finish this\n",
    "\n",
    "print ('%s\\n%s\\n%s\\n%s\\n' % (DNA1, DNA2, DNA3, PATTERN))"
   ]
  },
  {
   "cell_type": "markdown",
   "metadata": {},
   "source": [
    "## Exercises (Part 1)\n",
    "\n",
    "For the exercise use the Drosophila alcohol dehydrogenase sequences from the classic paper - McDonald, J. H. Kreitman (1991). \"Adaptive protein evolution at the Adh locus in Drosophila\" (PDF). Nature. 351 (6328): 652–654. doi:10.1038/351652a0. for the following exercises.\n",
    "\n",
    "DMETRE1 = 'ATGCGACAGCTGAAAGGGCGAAATCGGTGCAATCGTGCTGTTCGGCATCTGAAAGTTCAGGGCAAGATGTGGTTGAAAAATCTTAAAAGCGGTTTGGAACAAATTCGAGAAAGCCAGGTGCGGGGAACGCGAAAGAACTTCCTACACGATGGCTCCTTCCATGAGGCAGTTGCTCCAGTTCTGGCGGTGGCCCAGTGCTTTTGCCTAATGCCCGTGTGTGGAATCAGTGCTCCAACGTACAGGGGATTAAGCTTCAATCGGCGCAGCTGGCGATTCTGGTACAGCTCCTTGTACCTCTGCTCCACGTCGGTGGATCTGGCCTTCAGCATTCGCCGTGTGGCCCACAGTGTGCTGGATGTGCGCAGTGTGGAGCCCATCGTTTTTCACGTTAGCATCCTGATCGCCTCCTGGCAGTTCCTGAACCTGGCCCAACTCTGGCCTGGATTGATGCGCCACTGGGCGGCGGTGGAGCGACGGCTACCGGGCTACACCTGTTGCCTGCAACGTGCTCGTCCTGCCCGTCGCCTCAAGTTGGTGGCCTTCGTGCTGCTGGTAGTTTCACTGATGGAACACCTGCTGAGCATCATTTCGGTGGTTTACTACGACTTCTGCCCACGAAGAAGCGATCCCGTGGAATCCTATTTGCTTGGCGCCAGTGCCCAGTTATTCGAAGTGTTCCCCTACTCCAACTGGCTGGCTTGGCTGGGCAAGATCCAGAATGTGCTGCTCACCTTCGGCTGGAGTTACATGGACATATTCCTAATGATGCTGGGCATGGGTCTCAGCGAGATGTTGGCCAGGCTGAACCGCAGCCTGGAGCAGCAGGTGCGACAGCCCATGCCGGAAGCCTATTGGACGTGGTCACGCACTCTTTATCGCTCCATAGTAGAGCTCATACGGGAGGTGGATGACGCCGTGTCCGGTATAATGCTGATATCGTTTGGCAGCAATCTGTACTTCATCTGCCTGCAGCTCCTCAAGAGCATCAACACCATGCCCTCCTCCGCCCACGCCGTCTACTTTTACTTCTCGCTGCTGTTCCTGCTCAGCCGATCAACGGCCGTGCTCCTCTTCGTTTCGGCGATCAACGACCAGGCCAGGGAGCCACTGCGTCTGCTGCGCCTTGTCCCGCTCAAAGGATATCATCCGGAGGTCTTCCGCTTCGCCGCCGAATTGGCCAGCGATCAGGTGGCGCTTACGGGGCTCAAGTTCTTCAATGTCACCAGAAAGTTGTTCCTGGCGATGGCGGGCACGGTGGCCACTTATGAACTAGTGCTCATTCAGTTTCACGAGGATAAAAAGACCTGGGACTGCTCACCCTTCAATCTTGAT'\n",
    "DMETRE2 = 'ATGCGACAGCTGAAAGGGCGAAATCGGTGCAATCGTGCTGTTCGGCATCTGAAAGTTCAGGGCAAGATGTGGTTGAAAAATCTTAAAAGCGGTTTGGAACAAATTCGAGAAAGCCAGGTGCGGGGAACGCGAAAGAACTTCCTACACGATGGCTCCTTCCATGAGGCAGTTGCTCCAGTTCTGGCGGTGGCCCAGTGCTTTTGCCTAATGCCCGTGTGTGGAATCAGTGCTCCAACGTACAGGGGATTAAGCTTCAATCGGCGCAGCTGGCGATTCTGGTACAGCTCCTTGTACCTCTGCTCCACGTCGGTGGATCTGGCCTTCAGCATTCGCCGTGTGGCCCACAGTGTGCTGGATGTGCGCAGTGTGGAGCCCATCGTTTTTCACGTTAGCATCCTGATCGCCTCCTGGCAGTTCCTGAACCTGGCCCAACTCTGGCCTGGATTGATGCGCCACTGGGCGGCGGTGGAGCGACGGCTACCGGGCTACACCTGTTGCCTGCAACGTGCTCGTCCTGCCCGTCGCCTCAAGTTGGTGGCCTTCGTGCTGCTGGTAGTTTCACTGATGGAACACCTGCTGAGCATCATTTCGGTGGTTTACTACGACTTCTGCCCACGAAGAAGCGATCCCGTGGAATCCTATTTGCTTGGCGCCAGTGCCCAGTTATTCGAAGTGTTCCCCTACTCCAACTGGCTGGCTTGGCTGGGCAAGATCCAGAATGTGCTGCTCACCTTCGGCTGGAGTTACATGGACATATTCCTAATGATGCTGGGCATGGGTCTCAGCGAGATGTTGGCCAGGCTGAACCGCAGCCTGGAGCAGCAGGTGCGACAGCCCATGCCGGAAGCCTATTGGACGTGGTCACGCACTCTTTATCGCTCCATAGTAGAGCTCATACGGGAGGTGGATGACGCCGTGTCCGGTATAATGCTGATATCGTTTGGCAGCAATCTGTACTTCATCTGCCTGCAGCTCCTCAAGAGCATCAACACCATGCCCTCCTCCGCCCACGCCGTCTACTTTTACTTCTCGCTGCTGTTCCTGCTCAGCCGATCAACGGCCGTGCTCCTCTTCGTTTCGGCGATCAACGACCAGGCCAGGGAGCCACTGCGTCTGCTGCGCCTTGTCCCGCTCAAAGGATATCATCCGGAGGTCTTCCGCTTCGCCGCCGAATTGGCCAGCGATCAGGTGGCGCTTACGGGGCTCAAGTTCTTCAATGTCACCAGAAAGTTGTTCCTGGCGATGGCGGGCACGGTGGCCACTTATGAACTAGTGCTCATTCAGTTTCACGAGGATAAAAAGACCTGGGACTGCTCACCCTTCAATCTTGAT'\n",
    "DMETRE3 = 'ATGCGACAGCTGAAAGGGCGAAATCGGTGCAATCGTGCTGTTCGGCATCTGAAAGTTCAGGGCAAGATGTGGTTGAAAAATCTTAAAAGCGGTTTGGAACAAATTCGAGAAAGCCAGGTGCGGGGAACGCGAAAGAACTTCCTACACGATGGCTCCTTCCATGAGGCAGTTGCTCCAGTTCTGGCGGTGGCCCAGTGCTTTTGCCTAATGCCCGTGTGTGGAATCAGTGCTCCAACGTACAGGGGATTAAGCTTCAATCGGCGCAGCTGGCGATTCTGGTACAGCTCCTTGTACCTCTGCTCCACGTCGGTGGATCTGGCCTTCAGCATTCGCCGTGTGGCCCACAGTGTGCTGGATGTGCGCAGTGTGGAGCCCATCGTTTTTCACGTTAGCATCCTGATCGCCTCCTGGCAGTTCCTGAACCTGGCCCAACTCTGGCCTGGATTGATGCGCCACTGGGCGGCGGTGGAGCGACGGCTACCGGGCTACACCTGTTGCCTGCAACGTGCTCGTCCTGCCCGTCGCCTCAAGTTGGTGGCCTTCGTGCTGCTGGTAGTTTCACTGATGGAACACCTGCTGAGCATCATTTCGGTGGTTTACTACGACTTCTGCCCACGAAGAAGCGATCCCGTGGAATCCTATTTGCTTGGCGCCAGTGCCCAGTTATTCGAAGTGTTCCCCTACTCCAACTGGCTGGCTTGGCTGGGCAAGATCCAGAATGTGCTGCTCACCTTCGGCTGGAGTTACATGGACATATTCCTAATGATGCTGGGCATGGGTCTCAGCGAGATGTTGGCCAGGCTGAACCGCAGCCTGGAGCAGCAGGTGCGACAGCCCATGCCGGAAGCCTATTGGACGTGGTCACGCACTCTTTATCGCTCCATAGTAGAGCTCATACGGGAGGTGGATGACGCCGTGTCCGGTATAATGCTGATATCGTTTGGCAGCAATCTGTACTTCATCTGCCTGCAGCTCCTCAAGAGCATCAACACCATGCCCTCCTCCGCCCACGCCGTCTACTTTTACTTCTCGCTGCTGTTCCTGCTCAGCCGATCAACGGCCGTGCTCCTCTTCGTTTCGGCGATCAACGACCAGGCCAGGGAGCCACTGCGTCTGCTGCGCCTTGTCCCGCTCAAAGGATATCATCCGGAGGTCTTCCGCTTCGCCGCCGAATTGGCCAGCGATCAGGTGGCGCTTACGGGGCTCAAGTTCTTCAATGTCACCAGAAAGTTGTTCCTGGCGATGGCGGGCACGGTGGCCACTTATGAACTAGTGCTCATTCAGTTTCACGAGGATAAAAAGACCTGGGACTGCTCACCCTTCAATCTTGAT'\n",
    "DMETRE4 = 'ATGCGACAGCTGAAAGGGCGAAATCGGTGCAATCGTGCTGTTCGGCATCTGAAAGTTCAGGGCAAGATGTGGTTGAAAAATCTTAAAAGCGGTTTGGAACAAATTCGAGAAAGCCAGGTGCGGGGAACGCGAAAGAACTTCCTACACGATGGCTCCTTCCATGAGGCAGTTGCTCCAGTTCTGGCGGTGGCCCAGTGCTTTTGCCTAATGCCCGTGTGTGGAATCAGCGCTCCAACGTACAGGGGATTAAGCTTCAATCGGCGCAGCTGGCGATTCTGGTACAGCTCCTTGTACCTCTGCTCCACGTCGGTGGATCTGGCCTTCAGCATTCGCCGTGTGGCCCACAGTGTGCTGGATGTGCGCAGTGTGGAGCCCATCGTTTTTCACGTTAGCATCCTGATCGCCTCCTGGCAGTTCCTAAACCTGGCCCAACTCTGGCCTGGATTGATGCGCCACTGGGCGGCGGTGGAGCGACGGCTACCGGGCTACGCCTGTTGCCTGCAACGGGCTCGTCCTGCCCGTCGCCTCAAGTTGGTGGCCTTCGTGCTGCTGGTAGTTTCACTGATGGAACACCTGCTGAGCATCATTTCGGTGGTTTACTACGACTTCTGCCCACGAAGAAGCGATCCCGTGGAATCCTATTTGCTTGGCACCAGTGCCCAGTTATTCGAAGTGTTCCCCTACTCCAACTGGCTGGCTTGGCTGGGCAAGATCCAGAATGTGCTGCTCACCTTCGGCTGGAGTTACATGGACATATTCCTAATGATGCTGGGCATGGGTCTCAGCGAGATGTTGGCCAGGCTGAACCGCAGCCTGGAGCAGCAGGTGCGACAGCCCATGCCGGAAGCCTATTGGACGTGGTCACGCACTCTTTATCGCTCCATAGTAGAGCTCATACGGGAGGTGGATGACGCCGTGTCCGGTATAATGCTGATATCGTTTGGCAGCAATCTGTACTTCATCTGCCTGCAGCTCCTCAAGAGCATCAACACCATGCCCTCCTCCGCCCACGCCGTCTACTTTTACTTCTCGCTGCTGTTCCTGCTCAGCCGATCAACGGCCGTGCTCCTCTTCGTTTCGGCGATTAACGACCAGGCCAGGGAACCACTGCGTCTGCTGCGCCTTGTCCCGCTCAAAGGATATCATCCGGAGGTCTTCCGCTTCGCCGCCGAATTGGCCAGCGATCAGGTGGCGCTTACGGGGCTCAAGTTCTTCAATGTCACCAGAAAGTTGTTCCTGGCGATGGCGGGCACGGTGGCCACTTATGAACTAGTGCTCATTCAGTTTCACGAGGATAAAAAGACCTGGGACTGCTCACCCTTCAATCTTGAT'\n",
    "DMETRE5 = 'ATGCGACAGCTGAAAGGGCGAAATCGGTGCAATCGTGCTGTTCGGCATCTGAAAGTTCAGGGCAAGATGTGGTTGAAAAATCTTAAAAGCGGTTTGGAACAAATTCGAGAAAGCCAGGTGCGGGGAACGCGAAAGAACTTCCTACACGATGGCTCCTTCCATGAGGCAGTTGCTCCAGTTCTGGCGGTGGCCCAGTGCTTTTGCCTAATGCCCGTGTGTGGAATCAGTGCTCCAACGTACAGGGGATTAAGCTTCAATCGGCGCAGCTGGCGATTCTGGTACAGCTCCTTGTACCTCTGCTCCACGTCGGTGGATCTGGCCTTCAGCATTCGCCGTGTGGCCCACAGTGTGCTGGATGTGCGCAGTGTGGAGCCCATCGTTTTTCACGTTAGCATCCTGATCGCCTCCTGGCAGTTCCTGAACCTGGCCCAACTCTGGCCTGGATTGATGCGCCACTGGGCGGCGGTGGAGCGACGGCTACCGGGCTACACCTGTTGCCTGCAACGTGCTCGTCCTGCCCGTCGCCTCAAGTTGGTGGCCTTCGTGCTGCTGGTAGTTTCACTGATGGAACACCTGCTGAGCATCATTTCGGTGGTTTACTACGACTTCTGCCCACGAAGAAGCGATCCCGTGGAATCCTATTTGCTTGGCGCCAGTGCCCAGTTATTCGAAGTGTTCCCCTACTCCAACTGGCTGGCTTGGCTGGGCAAGATCCAGAATGTGCTGCTCACCTTCGGCTGGAGTTACATGGACATATTCCTAATGATGCTGGGCATGGGTCTCAGCGAGATGTTGGCCAGGCTGAACCGCAGCCTGGAGCAGCAGGTGCGACAGCCCATGCCGGAAGCCTATTGGACGTGGTCACGCACTCTTTATCGCTCCATAGTAGAGCTCATACGGGAGGTGGATGACGCCGTGTCCGGTATAATGCTGATATCGTTTGGCAGCAATCTGTACTTCATCTGCCTGCAGCTCCTCAAGAGCATCAACACCATGCCCTCCTCCGCCCACGCCGTCTACTTTTACTTCTCGCTGCTGTTCCTGCTCAGCCGATCAACGGCCGTGCTCCTCTTCGTTTCGGCGATCAACGACCAGGCCAGGGAGCCACTGCGTCTGCTGCGCCTTGTCCCGCTCAAAGGATATCATCCGGAGGTCTTCCGCTTCGCCGCCGAATTGGCCAGCGATCAGGTGGCGCTTACGGGGCTCAAGTTCTTCAATGTCACCAGAAAGTTGTTCCTGGCGATGGCGGGCACGGTGGCCACTTATGAACTAGTGCTCATTCAGTTTCACGAGGATAAAAAGACCTGGGACTGCTCGCCTTTCAATCTTGAT'\n",
    "DYAKTRE1 = 'ATGCGACAGCTAAAGGAGCGAAATCGGTATAGTCGAGCTGTTCGGCAACTGGGAATTCAGGGCAAGATCTGGTTAAGAAACCTTAAAAGCGGCTTGGATCAGTTTCGAGAATGCCAGGTGCGCGGAACGCGAAAGAACTTCCTGCACAATGGCTCCTTCCACGAGGCAGTGGCTCCGGTTCTGGCAGTGGCCCAGTGCTTCTGCTTGATGCCCGTGAGTGGTATCAGTGCTCCCTCCTACAGAGGATTGCGCTTCAGTCGGCGTAGCTGGCGTTTCTGGTACAGCTCCTTGTACCTCTGCTCCACGTCGGTGGATCTGGGCTTCAGCATCCGCAAGGTGGCCCACAGTGTGCTGGATGTGCGCAGTGTGGAGCCCATAGTTTTTCACGTGAGCATCCTGATCGCCTCCTGGCAGTTCCTGAAACTGGCCCAACTCTGGCCGGGATTGATGCGCCACTGGGCGGCGGTGGAACGGCGGCTACCCGGCTACACCTGCTGCCTGCAACGGGCTCGTCCTGCCCGTCGCCTCAAGTTGGTGGCCTTCGTGCTGCTGACGGTTTCCCTGATGGAGCACCTGCTGAGCATCATTTCGGTGGTGTACTATGACTTTTGCCCGCGAAGAAGGGATCCCGTGGAGTCCTATTTGCATGGCACCAGTGCCCAGTTGTTCGATGTGTTTCCCTACTCCAACTGGCTGGCGTGGCTGGGCAAGATTCAGAACGTGCTGCTCACCTTCGGCTGGAGCTACATGGACATATTCCTGATGATGCTGGGCATCGGTCTCAGCGAGATGCTGGCCAGGCTGAATCGCAGCTTGGAGCAGCAGGTGCGACAGCCCATGCCGGAAGCCTATTGGACTTGGTCACGCACTCTCTACCGCTCCATAGTGGAGCTCATACGCGAGGTGGATGACGCCGTGTCCGGCATAATGCTGATATCCTTCGGCAGCAATCTGTACTTCATCTGCCTGCAGCTCCTCAAAAGCATCAACACCATGCCCTCCTCCGCCCACGCCGTCTACTTCTACTTCTCGCTGCTGTTCCTGCTCAGCCGCGCCACGGCCGTGCTGCTCTTCGTGTCGGCGATCAACGACCAGGCCAGGGAGCCACTGCGTCTGCTGCGCCTGGTTCCGCTCAACGGCTATCATCCGGAGGTCTTCCGCTTTGCCGCAGAGCTGGCCAGCGATCAGGTGGCGCTAACGGGCCTCAAGTTCTTCAATGTCACCAGGAAGCTGTTTCTGGCGATGGCGGGTACGGTGGCCACCTATGAACTGGTGCTCATCCAGTTTCACGAGGACAAAAAGTCCTGGGACTGCTCGTCCACCAATTTGAAT'\n",
    "\n",
    "1. Write a program to determine the total number of A, T, C and G in each sequence.\n",
    "\n",
    "2. Write a program to determine if any of the six sequences are identifical.\n",
    " "
   ]
  },
  {
   "cell_type": "markdown",
   "metadata": {},
   "source": [
    "## 2.4 Loops\n",
    "\n",
    "Often we need to iterate over lists\n",
    "\n",
    "### For Loops\n",
    "The syntax of a for loop look is as follows:\n",
    "\n",
    "<pre>\n",
    "for iterating_var in sequence:\n",
    "    statements(s)\n",
    "</pre>"
   ]
  },
  {
   "cell_type": "code",
   "execution_count": 9,
   "metadata": {},
   "outputs": [
    {
     "name": "stdout",
     "output_type": "stream",
     "text": [
      "A\n",
      "G\n",
      "T\n",
      "C\n",
      "T\n",
      "C\n"
     ]
    }
   ],
   "source": [
    "# Example 2.9\n",
    "# Description:  This programs demonstrates for loops\n",
    "\n",
    "# for loops with a string\n",
    "\n",
    "DNA = 'AGTCTC'\n",
    "\n",
    "for base in DNA :\n",
    "    print (base)\n"
   ]
  },
  {
   "cell_type": "code",
   "execution_count": 10,
   "metadata": {},
   "outputs": [
    {
     "name": "stdout",
     "output_type": "stream",
     "text": [
      "7\n"
     ]
    }
   ],
   "source": [
    "# Example 2.10\n",
    "# Description:  This programs demonstrates for loops with the range functions\n",
    "\n",
    "# for loops with a string\n",
    "\n",
    "for num in range(5,10) : \n",
    "    if num == 7 :\n",
    "        print (num)  "
   ]
  },
  {
   "cell_type": "markdown",
   "metadata": {},
   "source": [
    "### While Loops\n",
    "\n",
    "A while loop statement in Python programming language repeatedly executes a target statement as long as a given condition is true.  The syntax of a while loop in Python programming language is:\n",
    "\n",
    "<pre>\n",
    "while expression:\n",
    "   statement(s)\n",
    "</pre>\n",
    "\n",
    "Here, statement(s) may be a single statement or a block of statements. The condition may be any expression, and true is any non-zero value. The loop iterates while the condition is true.  When the condition becomes false, program control passes to the line immediately following the loop."
   ]
  },
  {
   "cell_type": "code",
   "execution_count": 11,
   "metadata": {},
   "outputs": [
    {
     "name": "stdout",
     "output_type": "stream",
     "text": [
      "0\n",
      "1\n",
      "2\n",
      "3\n",
      "4\n"
     ]
    }
   ],
   "source": [
    "# Example 2.11\n",
    "# Description:  This programs demonstrates while expressions \n",
    "\n",
    "# initialize count\n",
    "\n",
    "count = 0\n",
    "\n",
    "while (count < 5):\n",
    "   print (count)\n",
    "   count = count + 1"
   ]
  },
  {
   "cell_type": "code",
   "execution_count": 12,
   "metadata": {},
   "outputs": [
    {
     "name": "stdout",
     "output_type": "stream",
     "text": [
      "AGTTGTAATGAGGCTGCCGTGATA\n",
      "TGTTGTAATGAGCCTGCCGTGATT\n",
      "*...........*..........*\n",
      "\n"
     ]
    }
   ],
   "source": [
    "# Example 2.12\n",
    "# A program uses a while loop find all differences between 2 sequences\n",
    "\n",
    "DNA1 = 'AGTTGTAATGAGGCTGCCGTGATA'\n",
    "DNA3 = 'TGTTGTAATGAGCCTGCCGTGATT'\n",
    "\n",
    "# Get the length of the DNA to use in the loop\n",
    "length = len(DNA1)\n",
    "# initialize count\n",
    "count = 0\n",
    "# initialize pattern\n",
    "PATTERN = ''\n",
    "\n",
    "while count < length :\n",
    "    if DNA1[count] != DNA3[count] :\n",
    "        PATTERN = PATTERN + '*'\n",
    "    else :\n",
    "        PATTERN = PATTERN + '.'\n",
    "    count = count + 1\n",
    "\n",
    "print ('%s\\n%s\\n%s\\n' % (DNA1, DNA3, PATTERN))"
   ]
  },
  {
   "cell_type": "code",
   "execution_count": 13,
   "metadata": {},
   "outputs": [
    {
     "name": "stdout",
     "output_type": "stream",
     "text": [
      "AGT\n",
      "TGT\n",
      "AAT\n",
      "GAG\n",
      "GCT\n",
      "GCC\n",
      "GTG\n",
      "ATA\n"
     ]
    }
   ],
   "source": [
    "# Example 2.13\n",
    "# A program uses a while loop to extract each codon\n",
    "\n",
    "DNA = 'AGTTGTAATGAGGCTGCCGTGATA'\n",
    "\n",
    "# starting coordinates for codon 1 in the first reading frame\n",
    "x = 0\n",
    "y = 3\n",
    "\n",
    "# Get the length of the DNA to use in the loop\n",
    "length = len(DNA)\n",
    "\n",
    "# A loop to get the codon and increment the DNA position by 3\n",
    "while y <= length :\n",
    "    codon = DNA[x:y]\n",
    "    print (codon)\n",
    "    x = x + 3\n",
    "    y = y + 3"
   ]
  },
  {
   "cell_type": "markdown",
   "metadata": {},
   "source": [
    "### Nested Loops\n",
    "\n",
    "A loop within a loop seems plain loopy, but there are reasons for doing this such working with each codon position.\n"
   ]
  },
  {
   "cell_type": "code",
   "execution_count": 14,
   "metadata": {},
   "outputs": [
    {
     "name": "stdout",
     "output_type": "stream",
     "text": [
      "The nucleotides in codon position 0 are ATAGGGGA\n",
      "\n",
      "The nucleotides in codon position 1 are GGAACCTT\n",
      "\n",
      "The nucleotides in codon position 2 are TTTGTCGA\n",
      "\n"
     ]
    }
   ],
   "source": [
    "# Example 2.14\n",
    "# A program shows a nested loop\n",
    "\n",
    "DNA = 'AGTTGTAATGAGGCTGCCGTGATA'\n",
    "\n",
    "# A loop to print out each codon site\n",
    "for initial_codon in range(0,3) :\n",
    "    nucleotides = ''\n",
    "    y = initial_codon\n",
    "    while y < len(DNA) :\n",
    "        nucleotides = nucleotides + DNA[y]\n",
    "        y += 3\n",
    "    print ('The nucleotides in codon position %s are %s\\n' % (initial_codon, nucleotides))\n"
   ]
  },
  {
   "cell_type": "markdown",
   "metadata": {},
   "source": [
    "### Beware of the Infinite Loop!   \n",
    "A loop becomes infinite loop if a condition never becomes false. This results in a loop that never ends.  If you find yourselve in that situation either hit control C or close down your terminal/command prompt window.  "
   ]
  },
  {
   "cell_type": "markdown",
   "metadata": {},
   "source": [
    "## Exercises (Part 2)\n",
    "\n",
    "For these exercises use the above Drosophila alcohol dehydrogenase sequences from the McDonald and Kreitman paper)\n",
    "\n",
    "3. Write a while loop that prints the first sequence in increments of 50 nucleotides per line.\n",
    "\n",
    "4. Write a program using loops that prints the 6 sequences 50 nucleotides at a time in an interleaved format typical of sequence alignment programs (e.g. 50 from the first sequence followed by 50 from the next sequence...)\n",
    "\n",
    "5. Building on Ex 2.4. Assuming the beginning of the sequence is codon position 1, determine whether a site is polymorphic at codon position 1, 2 or 3 and calculate the total number of substitions at each codon position. Is this result what you would expect for the substitution frequency if third codon positions were under less selection than first and second codon positions (which will likely change the amino acid)?"
   ]
  }
 ],
 "metadata": {
  "kernelspec": {
   "display_name": "Python 3 (ipykernel)",
   "language": "python",
   "name": "python3"
  },
  "language_info": {
   "codemirror_mode": {
    "name": "ipython",
    "version": 3
   },
   "file_extension": ".py",
   "mimetype": "text/x-python",
   "name": "python",
   "nbconvert_exporter": "python",
   "pygments_lexer": "ipython3",
   "version": "3.9.5"
  }
 },
 "nbformat": 4,
 "nbformat_minor": 1
}
