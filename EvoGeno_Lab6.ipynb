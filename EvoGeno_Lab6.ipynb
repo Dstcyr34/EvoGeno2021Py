{
 "cells": [
  {
   "cell_type": "markdown",
   "metadata": {},
   "source": [
    "# Lab 6 : Working on the command line  \n",
    "\n",
    "## Learning Objectives\n",
    "\n",
    "\n",
    "* Getting Started Using UNIX Commands\n",
    "* Writing a Python Program and running it on the command line\n",
    "* Python modules for manipulating files and directories"
   ]
  },
  {
   "cell_type": "markdown",
   "metadata": {},
   "source": [
    "## 6.1 Getting Started Using UNIX Commands in the Terminal\n",
    "\n",
    "The \"Terminal\" or \"Shell\" provides the gateway to running UNIX commands. "
   ]
  },
  {
   "cell_type": "markdown",
   "metadata": {},
   "source": [
    "On **RStudio Cloud** the Terminal is openned from the Jupyter Project Home Page. Just select New > Terminal. A terminal will appear with "
   ]
  },
  {
   "cell_type": "code",
   "execution_count": null,
   "metadata": {},
   "outputs": [],
   "source": [
    "/cloud/project$"
   ]
  },
  {
   "cell_type": "markdown",
   "metadata": {},
   "source": [
    "On the **Unity cluster**, an option to open a Terminal will appear when all windows are closed or when you go to File > New Launcher and a new tab will appear. You will need to change into your working directory by typing the command for changing directories (cd)"
   ]
  },
  {
   "cell_type": "code",
   "execution_count": null,
   "metadata": {},
   "outputs": [],
   "source": [
    "jlb_umass_edu@node8:~$ "
   ]
  },
  {
   "cell_type": "markdown",
   "metadata": {},
   "source": [
    "On **Unity** You will need to change into your working directory by typing the command for changing directories (cd) then typing home and your directory name (mine is jlb_umass_edu). If you don't know yours type cd home and then ls to list the directories.  Then type cd \"your directory name\""
   ]
  },
  {
   "cell_type": "code",
   "execution_count": null,
   "metadata": {},
   "outputs": [],
   "source": [
    "cd home/jlb_umass_edu"
   ]
  },
  {
   "cell_type": "markdown",
   "metadata": {},
   "source": [
    "We can make a new directory using the 'mkdir' command"
   ]
  },
  {
   "cell_type": "code",
   "execution_count": null,
   "metadata": {},
   "outputs": [],
   "source": [
    "mkdir Lab6_files"
   ]
  },
  {
   "cell_type": "markdown",
   "metadata": {},
   "source": [
    "Now type 'ls' to list the directories and files "
   ]
  },
  {
   "cell_type": "code",
   "execution_count": null,
   "metadata": {},
   "outputs": [],
   "source": [
    "ls"
   ]
  },
  {
   "cell_type": "markdown",
   "metadata": {},
   "source": [
    "Let's move into the Lab6_files directory using 'cd' change directories"
   ]
  },
  {
   "cell_type": "code",
   "execution_count": null,
   "metadata": {},
   "outputs": [],
   "source": [
    "cd Lab6_files"
   ]
  },
  {
   "cell_type": "markdown",
   "metadata": {},
   "source": [
    "To see the full directory path "
   ]
  },
  {
   "cell_type": "code",
   "execution_count": null,
   "metadata": {},
   "outputs": [],
   "source": [
    "pwd"
   ]
  },
  {
   "cell_type": "markdown",
   "metadata": {},
   "source": [
    "You can move up one directory by"
   ]
  },
  {
   "cell_type": "code",
   "execution_count": null,
   "metadata": {},
   "outputs": [],
   "source": [
    "cd .."
   ]
  },
  {
   "cell_type": "markdown",
   "metadata": {},
   "source": [
    "Make a file using your text editor called readme.txt and put in any text. Type ls to see the file"
   ]
  },
  {
   "cell_type": "code",
   "execution_count": null,
   "metadata": {},
   "outputs": [],
   "source": [
    "ls"
   ]
  },
  {
   "cell_type": "markdown",
   "metadata": {},
   "source": [
    "You can use the 'cat' or 'more' command to see the contents of the file. The 'more' command will display one page at a time."
   ]
  },
  {
   "cell_type": "code",
   "execution_count": null,
   "metadata": {},
   "outputs": [],
   "source": [
    "cat readme.txt"
   ]
  },
  {
   "cell_type": "markdown",
   "metadata": {},
   "source": [
    "To make a copy of the file use 'cp'"
   ]
  },
  {
   "cell_type": "code",
   "execution_count": null,
   "metadata": {},
   "outputs": [],
   "source": [
    "cp readme.txt readme_first.txt\n",
    "ls\n",
    "more readme_first.txt"
   ]
  },
  {
   "cell_type": "markdown",
   "metadata": {},
   "source": [
    "To move files to a new directory use 'mv'"
   ]
  },
  {
   "cell_type": "code",
   "execution_count": null,
   "metadata": {},
   "outputs": [],
   "source": [
    "mv readme.txt Lab6_files\n",
    "cd Lab6_files # Now move to the directory\n",
    "ls # list the contents"
   ]
  },
  {
   "cell_type": "markdown",
   "metadata": {},
   "source": [
    "to delete (remove) a file use 'rm'"
   ]
  },
  {
   "cell_type": "code",
   "execution_count": null,
   "metadata": {},
   "outputs": [],
   "source": [
    "rm readme.txt\n",
    "ls "
   ]
  },
  {
   "cell_type": "markdown",
   "metadata": {},
   "source": [
    "The list of all unix programs on RStudio Cloud (this is just a small subset) and Unity can be found by typing "
   ]
  },
  {
   "cell_type": "code",
   "execution_count": null,
   "metadata": {},
   "outputs": [],
   "source": [
    "ls /bin"
   ]
  },
  {
   "cell_type": "markdown",
   "metadata": {},
   "source": [
    "As bioinformaticists we deal with large files, which are usually archived and/or compressed to save disk space and lower transfer times. 'Tar' and 'Gzip' are two of the most common utilities for archiving and compressing files. Tar is used for archiving and Gzip is used for compression, however the two are most often used in conjunction. Last week I decompressed the Genbank files before putting them in Moodle and Github. You can do this yourself on the command line.  Go to  https://www.ncbi.nlm.nih.gov/assembly/GCF_000888735.1 Click on Download assembly then download the the Genome fasta (.fna) file to your computer. The file should be \n",
    "genome_assemblies_genome_fasta.tar\n"
   ]
  },
  {
   "cell_type": "code",
   "execution_count": null,
   "metadata": {},
   "outputs": [],
   "source": [
    "tar -xvf genome_assemblies_genome_fasta.tar\n",
    "ls"
   ]
  },
  {
   "cell_type": "markdown",
   "metadata": {},
   "source": [
    "This will create a directory ncbi-genomes-2021-10-13 with the file GCF_000888735.1_ViralProj60053_genomic.fna.gz"
   ]
  },
  {
   "cell_type": "markdown",
   "metadata": {},
   "source": [
    "**There are many nice on line tutorials available for Unix. Check out <a href=\"http://www.linuxcommand.org/lc3_learning_the_shell.php\" target=\"_blank\">Learning the shell</a> and <a href=\"https://swcarpentry.github.io/shell-novice/\" target=\"_blank\">Software Carpentry \"The Unix Shell\"</a>.**"
   ]
  },
  {
   "cell_type": "code",
   "execution_count": null,
   "metadata": {},
   "outputs": [],
   "source": [
    "cd ncbi-genomes-2021-10-13\n",
    "gzip -d GCF_000888735.1_ViralProj60053_genomic.fna.gz"
   ]
  },
  {
   "cell_type": "markdown",
   "metadata": {},
   "source": [
    "This will create the decompressed file GCF_000888735.1_ViralProj60053_genomic.fna that you can load into your programs."
   ]
  },
  {
   "cell_type": "markdown",
   "metadata": {},
   "source": [
    "## 6. 2 Writing a Python Program and running it on the command line in the Terminal\n",
    "\n",
    "Open your text editor. Save the file as \"hello.py\" in the directory you created above the Lab6_files. Type in your text editor "
   ]
  },
  {
   "cell_type": "code",
   "execution_count": null,
   "metadata": {},
   "outputs": [],
   "source": [
    "print ('Hello World!  I am writing computer programs.')"
   ]
  },
  {
   "cell_type": "markdown",
   "metadata": {},
   "source": [
    "Then go to the \"Terminal\". Check to make sure you are in the same directory (Lab6_files where \"hello.pl\" was saved by typing "
   ]
  },
  {
   "cell_type": "code",
   "execution_count": null,
   "metadata": {},
   "outputs": [],
   "source": [
    "ls"
   ]
  },
  {
   "cell_type": "markdown",
   "metadata": {},
   "source": [
    "\"hello.py\" should be listed. Now to run the program type"
   ]
  },
  {
   "cell_type": "code",
   "execution_count": null,
   "metadata": {},
   "outputs": [],
   "source": [
    "python3 hello.py"
   ]
  },
  {
   "cell_type": "markdown",
   "metadata": {},
   "source": [
    "The %system command lets us execute Unix shell commands in the jupyter notebook. Many basic unix commands can be run as is in a Jupyter notebook. However, so require a %system or %sx command to run. This is true of running python in the notebook. "
   ]
  },
  {
   "cell_type": "code",
   "execution_count": null,
   "metadata": {},
   "outputs": [],
   "source": [
    "%system python3 hello.py"
   ]
  },
  {
   "cell_type": "markdown",
   "metadata": {},
   "source": [
    "## 6.3 The Python os module\n",
    "\n",
    "In Session 1 we learned to manipulate files and directories on your native operating system using terminal and Unix commands (Ubuntu and OS X) or the Command Prompt and MS-DOS (Windows). The functions that the Python OS module provides allows you to interface with the underlying operating system that Python is running on – be that Windows, Mac or Linux. \n",
    "The Python OS module also provides a range of useful methods to manipulate files and directories. To use this module you need to import it first and then call any related functions."
   ]
  },
  {
   "cell_type": "code",
   "execution_count": null,
   "metadata": {
    "scrolled": true
   },
   "outputs": [],
   "source": [
    "#!/usr/bin/env python\n",
    "\n",
    "# Example 6.1\n",
    "# This is a not meant to be run as a program.  \n",
    "# Either use the ipython interpreter or select and run commands in Spyder as in Session 9\n",
    "\n",
    "import os\n",
    "\n",
    "# To the path of your current working directory\n",
    "os.getcwd()\n",
    "print(os.getcwd())\n",
    "#  Windows or Anaconda command prompt = cd\n",
    "#  Apple OSX or Linux = pwd\n",
    "\n",
    "# Create a directory \"test\"\n",
    "os.mkdir(\"test\")\n",
    "#  Windows or Anaconda command prompt = mkdir\n",
    "#  Apple OSX or Linux = mkdir\n",
    "\n",
    "# Changing into that directory\n",
    "os.chdir(\"test\")\n",
    "#  Windows or Anaconda command prompt = chdir\n",
    "#  Apple OSX or Linux = cd\n",
    "\n",
    "print(os.getcwd())\n",
    "\n",
    "# create file\n",
    "outfile = open(\"example.txt\", \"w\")\n",
    "outfile.write('example text in my example file')\n",
    "outfile.close()\n",
    "\n",
    "# get a list of directory contents (files and directories)\n",
    "print(os.listdir('.'))\n",
    "#  Windows or Anaconda command prompt = dir\n",
    "#  Apple OSX or Linux = ls\n",
    "\n",
    "# get a list of directory contents (files and directories)\n",
    "os.remove('example.txt')\n",
    "#  Windows or Anaconda command prompt = del\n",
    "#  Apple OSX or Linux = rm\n",
    "\n",
    "# To move up one directory\n",
    "os.chdir(\"..\")\n",
    "#  Windows or Anaconda command prompt = chdir ..\n",
    "#  Apple OSX or Linux = cd ..\n",
    "\n",
    "# Delete/Remove \"test\" directory. Note the directory must be empty\n",
    "os.rmdir(\"test\")\n",
    "#  Windows or Anaconda command prompt = del \n",
    "#  Apple OSX or Linux = rm\n",
    "# To remove a directory and all of its contents use shutil.rmtree() - remember to import shutil\n",
    "\n",
    "print(os.getcwd())\n",
    "\n",
    "os.system(\"mkdir TEST\")"
   ]
  },
  {
   "cell_type": "markdown",
   "metadata": {},
   "source": [
    "I try to keep this class operating system INDEPENDENT, but if you want to directly interact with the terminal in OSX or Linux or the command prompt in Windows use the os.system() command.  For example os.system(\"makedir TEST\") to make a new directory"
   ]
  },
  {
   "cell_type": "markdown",
   "metadata": {},
   "source": [
    "As we have seen a path points to a file system location by following the directory tree hierarchy expressed in a string of characters in which path components, separated by a delimiting character, represent each directory. The delimiting character is most commonly the slash (\"/\") in Unix or OS X and the backslash character (\"\\\") in Windows.  "
   ]
  },
  {
   "cell_type": "code",
   "execution_count": null,
   "metadata": {},
   "outputs": [],
   "source": [
    "#!/usr/bin/env python\n",
    "\n",
    "# Example 6.2\n",
    "#\n",
    "# A program for making example directories and files\n",
    "# The output of this program will be a set of directories and files\n",
    "\n",
    "# Usage: python make_example_directories.py\n",
    "\n",
    "\n",
    "import os\n",
    "\n",
    "print(os.getcwd())\n",
    "\n",
    "# make the main directory\n",
    "os.mkdir(\"main_directory\")\n",
    "\n",
    "# move into the main directory\n",
    "os.chdir(\"main_directory\")\n",
    "\n",
    "# make the sub directories\n",
    "os.mkdir(\"sub_directory1\")\n",
    "os.mkdir(\"sub_directory2\")\n",
    "os.mkdir(\"sub_directory3\")\n",
    "\n",
    "# get a list of the subdirectories\n",
    "list_sub_dir = os.listdir('.')\n",
    "\n",
    "# make a set of files with different extensions in each sub directory\n",
    "for sub_dir in list_sub_dir :\n",
    "    os.chdir(sub_dir)\n",
    "    outfilename1 = sub_dir + \".file1.txt\"\n",
    "    outfile1 = open(outfilename1, 'w')\n",
    "    outfile1.write ('text from %s\\n' % (outfilename1))\n",
    "    outfilename2 = sub_dir + \".file2.faa\"\n",
    "    outfile2 = open(outfilename2, 'w')\n",
    "    outfile2.write ('protein from %s\\n' % (outfilename2))\n",
    "    outfilename3 = sub_dir + \".file3.gbk\"\n",
    "    outfile3 = open(outfilename3, 'w')\n",
    "    outfile3.write ('Genbank Record from %s\\n' % (outfilename3))\n",
    "    print(os.listdir())\n",
    "    os.chdir(\"..\")\n",
    "\n",
    "# close the files\n",
    "outfile1.close()\n",
    "outfile2.close()\n",
    "outfile3.close()\n",
    "\n",
    "# print path of working directory and sub directories\n",
    "print(os.getcwd())\n",
    "print(os.listdir())\n",
    "\n",
    "# At the moment main_directory is the current working directory\n",
    "# Move back to your working directory\n",
    "# If you are funning this in Juptyer notebooks and do not go back to your original working directory\n",
    "# Then main_directory would be your starting working directory.\n",
    "\n",
    "os.chdir(\"..\")\n",
    "print(os.getcwd())\n"
   ]
  },
  {
   "cell_type": "markdown",
   "metadata": {},
   "source": [
    "## 6.4 The Python shutil module\n",
    "\n",
    "The shutil module offers operations for working files and collections of files. In particular, functions are provided which support file copying and removal. For operations on individual files. It overlaps in function with some of the os module, but I use it for moving and copying files.\n"
   ]
  },
  {
   "cell_type": "code",
   "execution_count": null,
   "metadata": {},
   "outputs": [],
   "source": [
    "#!/usr/bin/env python\n",
    "\n",
    "# Example 6.3\n",
    "#\n",
    "# A program for moving files\n",
    "\n",
    "# Usage: python move_file.py\n",
    "\n",
    "import os\n",
    "import shutil\n",
    "\n",
    "outfile = open(\"example.txt\", \"w\")\n",
    "outfile.write('example text in my example file')\n",
    "outfile.close()\n",
    "\n",
    "os.mkdir('test')\n",
    "\n",
    "shutil.move('example.txt','test/example.txt' )\n",
    "# remember the slashes go in the other direction on Windows"
   ]
  },
  {
   "cell_type": "markdown",
   "metadata": {},
   "source": [
    "## 6.5 The Python glob module\n",
    "\n",
    "Another useful tool in getting files in a directory is glob.  The glob module finds all the pathnames matching a specified pattern according to the rules used by the Unix shell. No tilde expansion is done, but \\*, ?, and character ranges expressed with [ ] will be correctly matched."
   ]
  },
  {
   "cell_type": "code",
   "execution_count": null,
   "metadata": {},
   "outputs": [],
   "source": [
    "#!/usr/bin/env python\n",
    "\n",
    "# Example 6.4\n",
    "# glob\n",
    "\n",
    "# Usage: python myglob.py\n",
    "\n",
    "import glob\n",
    "\n",
    "txt_files = glob.glob('*.txt')\n",
    "\n",
    "print (txt_files)"
   ]
  },
  {
   "cell_type": "markdown",
   "metadata": {},
   "source": [
    "These results are the ones in my working directory. Note the output of the above program will depend on what .txt files you have in your working directory. \n",
    "\n",
    "Below is a program that will make a set of directories and files for testing your knowledge of the above commands and your code in the examples and exercises"
   ]
  },
  {
   "cell_type": "code",
   "execution_count": null,
   "metadata": {},
   "outputs": [],
   "source": [
    "#!/usr/bin/env python\n",
    "\n",
    "# Example 6.5\n",
    "\n",
    "# This example traverses the directory structure getting the contents of all GenBank record files (.gbk)\n",
    "# This program assumes the directory structure from make_example_directories.py  (Example 6.2)\n",
    "# It should be run from the same directory that the main directory is in\n",
    "\n",
    "# Usage: python traverse_directories.py\n",
    "\n",
    "\n",
    "import os\n",
    "import glob\n",
    "\n",
    "outfile1 = open('all_gbk_files.txt', 'w')\n",
    "\n",
    "# move into the main directory\n",
    "os.chdir(\"main_directory\")\n",
    "\n",
    "# get a list of the subdirectories\n",
    "list_sub_dir = os.listdir('.')\n",
    "\n",
    "# go into each sub directory and get the contexts of the gbk files\n",
    "for sub_dir in list_sub_dir :\n",
    "    os.chdir(sub_dir)\n",
    "    gbk_files = glob.glob('*.gbk')\n",
    "    for file in gbk_files :\n",
    "        ind_gbk = open(file, 'r')\n",
    "        file_contents = ind_gbk.read()\n",
    "        outfile1.write(file_contents)\n",
    "        # Also you can print to screen\n",
    "        print(file_contents)\n",
    "    os.chdir(\"..\")\n",
    "\n",
    "# Move back to your working directory\n",
    "os.chdir(\"..\")\n",
    "# close the files\n",
    "outfile1.close()\n",
    "\n"
   ]
  },
  {
   "cell_type": "markdown",
   "metadata": {},
   "source": [
    "## Exercises\n",
    "\n",
    "1. In the \"Getting Started Using UNIX Commands\". Run the above commands yourself in RStudio Cloud or on Unity. You do not need to show or turn in any of these commands or the results.\n",
    "\n",
    "2.  All of the above commands in Getting Started Using UNIX Commands\" can be run in a Jupyter notebook. Technically you need to put %system or %sx before the commands, but most run fine without these magic commands. Capture the above commands in your Jupyter notebook.  They will not all run as expected.\n",
    "\n",
    "3. Write a simple Python program and run it on the command line.  You do not need to show or turn in this result.\n",
    "\n",
    "4. Now run the program in Jupyter using %system python3.\n",
    "\n",
    "3. Copy and paste Lab5 Ex5 into a text editor and save it as a .py file. Make sure the .faa file is in your directory. Then run your python program on the terminal and in Jupyter notebook.\n",
    "\n",
    "4. Run the commands in Example 6.1 in your RStudio Cloud or Unity directory in your Jupyter notebook\n",
    "\n",
    "5. Run the program in Example 6.2. Inspect(show) the results using 'ls' and 'cd' to move in and out of the directories.\n",
    "\n",
    "6. Change the Example 6.5 to get the contents of the .faa files made when running Example 6.2"
   ]
  }
 ],
 "metadata": {
  "kernelspec": {
   "display_name": "Python 3 (ipykernel)",
   "language": "python",
   "name": "python3"
  },
  "language_info": {
   "codemirror_mode": {
    "name": "ipython",
    "version": 3
   },
   "file_extension": ".py",
   "mimetype": "text/x-python",
   "name": "python",
   "nbconvert_exporter": "python",
   "pygments_lexer": "ipython3",
   "version": "3.9.5"
  }
 },
 "nbformat": 4,
 "nbformat_minor": 1
}
